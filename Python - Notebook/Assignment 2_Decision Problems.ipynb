{
  "nbformat": 4,
  "nbformat_minor": 0,
  "metadata": {
    "colab": {
      "name": "Decision Problems.ipynb",
      "provenance": []
    },
    "kernelspec": {
      "name": "python3",
      "display_name": "Python 3"
    },
    "language_info": {
      "name": "python"
    }
  },
  "cells": [
    {
      "cell_type": "markdown",
      "source": [
        "**Program To find the biggest of two numbers**"
      ],
      "metadata": {
        "id": "CWY4kuhh3yye"
      }
    },
    {
      "cell_type": "code",
      "source": [
        "num1 = float(input(\"Enter First Number \"))\n",
        "num2 = float(input(\"Enter Second Number \"))\n",
        "if num1>num2:\n",
        "  print(str(num1)+\" is greater than \"+str(num2))\n",
        "else:\n",
        "  print(str(num2)+\" is greater than \"+str(num1))"
      ],
      "metadata": {
        "colab": {
          "base_uri": "https://localhost:8080/"
        },
        "id": "ZmR6mpja3-g3",
        "outputId": "b9a93c2e-be01-4ea5-fab3-3272beb8d80d"
      },
      "execution_count": null,
      "outputs": [
        {
          "output_type": "stream",
          "name": "stdout",
          "text": [
            "Enter First Number 20\n",
            "Enter Second Number 10\n",
            "20 is greater than 10\n"
          ]
        }
      ]
    },
    {
      "cell_type": "markdown",
      "source": [
        "<style type=\"text/css\">\n",
        ".tg  {border-collapse:collapse;border-color:#93a1a1;border-spacing:0;}\n",
        ".tg td{background-color:#fdf6e3;border-color:#93a1a1;border-style:solid;border-width:1px;color:#002b36;\n",
        "  font-family:Arial, sans-serif;font-size:14px;overflow:hidden;padding:10px 5px;word-break:normal;}\n",
        ".tg th{background-color:#657b83;border-color:#93a1a1;border-style:solid;border-width:1px;color:#fdf6e3;\n",
        "  font-family:Arial, sans-serif;font-size:14px;font-weight:normal;overflow:hidden;padding:10px 5px;word-break:normal;}\n",
        ".tg .tg-jokb{border-color:#000000;color:#009901;text-align:left;vertical-align:top}\n",
        ".tg .tg-mcqj{border-color:#000000;font-weight:bold;text-align:left;vertical-align:top}\n",
        ".tg .tg-73oq{border-color:#000000;text-align:left;vertical-align:top}\n",
        "</style>\n",
        "<table class=\"tg\">\n",
        "<thead>\n",
        "  <tr>\n",
        "    <th class=\"tg-mcqj\">Test Case No:</th>\n",
        "    <th class=\"tg-mcqj\">Test Case Description</th>\n",
        "    <th class=\"tg-mcqj\">Test Data</th>\n",
        "    <th class=\"tg-mcqj\">Expected Result</th>\n",
        "    <th class=\"tg-mcqj\">Actual Result</th>\n",
        "    <th class=\"tg-mcqj\">Pass/Fail</th>\n",
        "  </tr>\n",
        "</thead>\n",
        "<tbody>\n",
        "  <tr>\n",
        "    <td class=\"tg-73oq\">1</td>\n",
        "    <td class=\"tg-73oq\">Giving First Number Greater <br>and Second Number Smaller</td>\n",
        "    <td class=\"tg-73oq\">num1=40<br>num2=20</td>\n",
        "    <td class=\"tg-73oq\">40 is greater than<br>20</td>\n",
        "    <td class=\"tg-73oq\">40 is greater than<br>20</td>\n",
        "    <td class=\"tg-jokb\"><span style=\"font-weight:bold\">Pass</span></td>\n",
        "  </tr>\n",
        "  <tr>\n",
        "    <td class=\"tg-73oq\">2</td>\n",
        "    <td class=\"tg-73oq\">Giving First Number Smaller <br>and Second Number Greater</td>\n",
        "    <td class=\"tg-73oq\">num1=30<br>num2=50</td>\n",
        "    <td class=\"tg-73oq\">50 is greater than <br>30</td>\n",
        "    <td class=\"tg-73oq\">50 is greater than <br>30</td>\n",
        "    <td class=\"tg-jokb\"><span style=\"font-weight:bold\">Pass</span></td>\n",
        "  </tr>\n",
        "  <tr>\n",
        "    <td class=\"tg-73oq\">3</td>\n",
        "    <td class=\"tg-73oq\">Giving Both Numbers Same</td>\n",
        "    <td class=\"tg-73oq\">num1=30<br>num2=30</td>\n",
        "    <td class=\"tg-73oq\">Both Numbers are<br>Same</td>\n",
        "    <td class=\"tg-73oq\">30 is greater than<br>30</td>\n",
        "    <td class=\"tg-73oq\"><span style=\"font-weight:bold;color:#FE0000\">Fail</span></td>\n",
        "  </tr>\n",
        "  <tr>\n",
        "    <td class=\"tg-73oq\">4</td>\n",
        "    <td class=\"tg-73oq\">Giving String as Input</td>\n",
        "    <td class=\"tg-73oq\">num1=a<br>num2=b</td>\n",
        "    <td class=\"tg-73oq\">Only Integers are<br>Possible</td>\n",
        "    <td class=\"tg-73oq\">ValueError</td>\n",
        "    <td class=\"tg-73oq\"><span style=\"font-weight:bold;color:#009901\">Pass</span></td>\n",
        "  </tr>\n",
        "</tbody>\n",
        "</table>"
      ],
      "metadata": {
        "id": "-OrleVOz7rVq"
      }
    },
    {
      "cell_type": "markdown",
      "source": [
        "**Program to find the smallest of 3 numbers.**"
      ],
      "metadata": {
        "id": "d6xDyRF38PHw"
      }
    },
    {
      "cell_type": "code",
      "source": [
        "num1 = float(input(\"Enter First Number \"))\n",
        "num2 = float(input(\"Enter Second Number \"))\n",
        "num3 = float(input(\"Enter Third Number \"))\n",
        "if num1>num2:\n",
        "  if num2>num3:\n",
        "    print(str(num3)+\" is the smallest number\")\n",
        "  else:\n",
        "    print(str(num2)+\" is the smallest number\")\n",
        "else :\n",
        "  if num1>num3:\n",
        "    print(str(num3)+\" is the smallest number\")\n",
        "  else:\n",
        "    print(str(num1)+\" is the smallest number\")\n"
      ],
      "metadata": {
        "id": "Lox0s1al8_NN"
      },
      "execution_count": null,
      "outputs": []
    },
    {
      "cell_type": "markdown",
      "source": [
        "<style type=\"text/css\">\n",
        ".tg  {border-collapse:collapse;border-color:#93a1a1;border-spacing:0;}\n",
        ".tg td{background-color:#fdf6e3;border-color:#93a1a1;border-style:solid;border-width:1px;color:#002b36;\n",
        "  font-family:Arial, sans-serif;font-size:14px;overflow:hidden;padding:10px 5px;word-break:normal;}\n",
        ".tg th{background-color:#657b83;border-color:#93a1a1;border-style:solid;border-width:1px;color:#fdf6e3;\n",
        "  font-family:Arial, sans-serif;font-size:14px;font-weight:normal;overflow:hidden;padding:10px 5px;word-break:normal;}\n",
        ".tg .tg-jokb{border-color:#000000;color:#009901;text-align:left;vertical-align:top}\n",
        ".tg .tg-mcqj{border-color:#000000;font-weight:bold;text-align:left;vertical-align:top}\n",
        ".tg .tg-73oq{border-color:#000000;text-align:left;vertical-align:top}\n",
        "</style>\n",
        "<table class=\"tg\">\n",
        "<thead>\n",
        "  <tr>\n",
        "    <th class=\"tg-mcqj\">Test Case No:</th>\n",
        "    <th class=\"tg-mcqj\">Test Case Description</th>\n",
        "    <th class=\"tg-mcqj\">Test Data</th>\n",
        "    <th class=\"tg-mcqj\">Expected Result</th>\n",
        "    <th class=\"tg-mcqj\">Actual Result</th>\n",
        "    <th class=\"tg-mcqj\">Pass/Fail</th>\n",
        "  </tr>\n",
        "</thead>\n",
        "<tbody>\n",
        "  <tr>\n",
        "    <td class=\"tg-73oq\">1</td>\n",
        "    <td class=\"tg-73oq\">Giving the third number as <br>smallest</td>\n",
        "    <td class=\"tg-73oq\">num1=40<br>num2=20<br>num3=10</td>\n",
        "    <td class=\"tg-73oq\">10 is the smallest<br>number</td>\n",
        "    <td class=\"tg-73oq\">10 is the smallest<br>number</td>\n",
        "    <td class=\"tg-jokb\"><span style=\"font-weight:bold\">Pass</span></td>\n",
        "  </tr>\n",
        "  <tr>\n",
        "    <td class=\"tg-73oq\">2</td>\n",
        "    <td class=\"tg-73oq\">Giving the second number as <br>smallest</td>\n",
        "    <td class=\"tg-73oq\">num1=40<br>num2=5<br>num3=60</td>\n",
        "    <td class=\"tg-73oq\">5 is the smallest<br>number</td>\n",
        "    <td class=\"tg-73oq\">5 is the smallest<br>number</td>\n",
        "    <td class=\"tg-jokb\"><span style=\"font-weight:bold\">Pass</span></td>\n",
        "  </tr>\n",
        "  <tr>\n",
        "    <td class=\"tg-73oq\">3</td>\n",
        "    <td class=\"tg-73oq\">Giving the three numbers <br>same value</td>\n",
        "    <td class=\"tg-73oq\">num1=0<br>num2=0<br>num3=0</td>\n",
        "    <td class=\"tg-73oq\">Both Numbers are<br>Same</td>\n",
        "    <td class=\"tg-73oq\">0 is the smallest <br>number</td>\n",
        "    <td class=\"tg-73oq\"><span style=\"font-weight:bold;color:#FE0000\">Fail</span></td>\n",
        "  </tr>\n",
        "  <tr>\n",
        "    <td class=\"tg-73oq\">4</td>\n",
        "    <td class=\"tg-73oq\">Giving String as Input</td>\n",
        "    <td class=\"tg-73oq\">num1=a<br>num2=b<br>num3=c</td>\n",
        "    <td class=\"tg-73oq\">Only Integers are<br>Possible</td>\n",
        "    <td class=\"tg-73oq\">ValueError</td>\n",
        "    <td class=\"tg-73oq\"><span style=\"font-weight:bold;color:#009901\">Pass</span></td>\n",
        "  </tr>\n",
        "</tbody>\n",
        "</table>"
      ],
      "metadata": {
        "id": "8jDlLX6jBoco"
      }
    },
    {
      "cell_type": "markdown",
      "source": [
        "**Program to find the distance between two points on a number line.**"
      ],
      "metadata": {
        "id": "WRB20EhkCt_8"
      }
    },
    {
      "cell_type": "code",
      "source": [
        "position1=float(input(\"Enter the Initial Positon \"))\n",
        "position2=float(input(\"Enter the Final Positon \"))\n",
        "length = position2-position1\n",
        "if length<0:\n",
        "  length=length*-1\n",
        "print(\"The distance is \"+str(length))"
      ],
      "metadata": {
        "id": "vmf3kO2VBq8h",
        "colab": {
          "base_uri": "https://localhost:8080/"
        },
        "outputId": "00d464a4-aec9-4615-9964-2d9eb05af631"
      },
      "execution_count": 23,
      "outputs": [
        {
          "output_type": "stream",
          "name": "stdout",
          "text": [
            "Enter the Initial Positon 8.5\n",
            "Enter the Final Positon 8.4\n",
            "The distance is 0.09999999999999964\n"
          ]
        }
      ]
    },
    {
      "cell_type": "markdown",
      "source": [
        "<style type=\"text/css\">\n",
        ".tg  {border-collapse:collapse;border-color:#93a1a1;border-spacing:0;}\n",
        ".tg td{background-color:#fdf6e3;border-color:#93a1a1;border-style:solid;border-width:1px;color:#002b36;\n",
        "  font-family:Arial, sans-serif;font-size:14px;overflow:hidden;padding:10px 5px;word-break:normal;}\n",
        ".tg th{background-color:#657b83;border-color:#93a1a1;border-style:solid;border-width:1px;color:#fdf6e3;\n",
        "  font-family:Arial, sans-serif;font-size:14px;font-weight:normal;overflow:hidden;padding:10px 5px;word-break:normal;}\n",
        ".tg .tg-jokb{border-color:#000000;color:#009901;text-align:left;vertical-align:top}\n",
        ".tg .tg-0slm{border-color:#000000;color:#009901;font-weight:bold;text-align:left;vertical-align:top}\n",
        ".tg .tg-mcqj{border-color:#000000;font-weight:bold;text-align:left;vertical-align:top}\n",
        ".tg .tg-73oq{border-color:#000000;text-align:left;vertical-align:top}\n",
        "</style>\n",
        "<table class=\"tg\">\n",
        "<thead>\n",
        "  <tr>\n",
        "    <th class=\"tg-mcqj\">Test Case No:</th>\n",
        "    <th class=\"tg-mcqj\">Test Case Description</th>\n",
        "    <th class=\"tg-mcqj\">Test Data</th>\n",
        "    <th class=\"tg-mcqj\">Expected Result</th>\n",
        "    <th class=\"tg-mcqj\">Actual Result</th>\n",
        "    <th class=\"tg-mcqj\">Pass/Fail</th>\n",
        "  </tr>\n",
        "</thead>\n",
        "<tbody>\n",
        "  <tr>\n",
        "    <td class=\"tg-73oq\">1</td>\n",
        "    <td class=\"tg-73oq\">Giving Two Points Positive</td>\n",
        "    <td class=\"tg-73oq\">position1=10<br>position2=20</td>\n",
        "    <td class=\"tg-73oq\">The Distance is<br>10</td>\n",
        "    <td class=\"tg-73oq\">The Distance is<br>10</td>\n",
        "    <td class=\"tg-jokb\"><span style=\"font-weight:bold\">Pass</span></td>\n",
        "  </tr>\n",
        "  <tr>\n",
        "    <td class=\"tg-73oq\">2</td>\n",
        "    <td class=\"tg-73oq\">Giving One Point Positive <br>and another one negative</td>\n",
        "    <td class=\"tg-73oq\">position1=8<br>position2=-4</td>\n",
        "    <td class=\"tg-73oq\">The Distance is<br>12</td>\n",
        "    <td class=\"tg-73oq\">The Distance is<br>12</td>\n",
        "    <td class=\"tg-jokb\"><span style=\"font-weight:bold\">Pass</span></td>\n",
        "  </tr>\n",
        "  <tr>\n",
        "    <td class=\"tg-73oq\">3</td>\n",
        "    <td class=\"tg-73oq\">Giving Two Points as <br>negative</td>\n",
        "    <td class=\"tg-73oq\">position1=-4<br>position2=-5</td>\n",
        "    <td class=\"tg-73oq\">The Distance is<br>5</td>\n",
        "    <td class=\"tg-73oq\">The Distance is<br>5</td>\n",
        "    <td class=\"tg-0slm\"><span style=\"font-weight:bold;color:#009901\">Pass</span></td>\n",
        "  </tr>\n",
        "  <tr>\n",
        "    <td class=\"tg-73oq\">4</td>\n",
        "    <td class=\"tg-73oq\">Giving Both Points Same<br>value</td>\n",
        "    <td class=\"tg-73oq\">position1=4<br>position2=4</td>\n",
        "    <td class=\"tg-73oq\">The Distance is<br>0</td>\n",
        "    <td class=\"tg-73oq\">The Distance is<br>0</td>\n",
        "    <td class=\"tg-0slm\"><span style=\"font-weight:bold;color:#009901\">Pass</span></td>\n",
        "  </tr>\n",
        "</tbody>\n",
        "</table>"
      ],
      "metadata": {
        "id": "GqPUpGrWC64K"
      }
    },
    {
      "cell_type": "markdown",
      "source": [
        "**Program to check whether a number is two digit or not**"
      ],
      "metadata": {
        "id": "QvI_jP6eC8-2"
      }
    },
    {
      "cell_type": "code",
      "source": [
        "num = float(input(\"Enter the Number \"))\n",
        "if num>=10 and num<=99:\n",
        "  print(str(num)+\" is a two digit number\")\n",
        "else :\n",
        "    print(str(num)+\" is not a two digit number\")"
      ],
      "metadata": {
        "id": "lVd_OjE8DKbh",
        "colab": {
          "base_uri": "https://localhost:8080/"
        },
        "outputId": "7104aa27-a2c6-444b-aab2-3fbe8b5544f8"
      },
      "execution_count": 26,
      "outputs": [
        {
          "output_type": "stream",
          "name": "stdout",
          "text": [
            "Enter the Number 87\n",
            "87.0 is a two digit number\n"
          ]
        }
      ]
    },
    {
      "cell_type": "markdown",
      "source": [
        "<style type=\"text/css\">\n",
        ".tg  {border-collapse:collapse;border-color:#93a1a1;border-spacing:0;}\n",
        ".tg td{background-color:#fdf6e3;border-color:#93a1a1;border-style:solid;border-width:1px;color:#002b36;\n",
        "  font-family:Arial, sans-serif;font-size:14px;overflow:hidden;padding:10px 5px;word-break:normal;}\n",
        ".tg th{background-color:#657b83;border-color:#93a1a1;border-style:solid;border-width:1px;color:#fdf6e3;\n",
        "  font-family:Arial, sans-serif;font-size:14px;font-weight:normal;overflow:hidden;padding:10px 5px;word-break:normal;}\n",
        ".tg .tg-jokb{border-color:#000000;color:#009901;text-align:left;vertical-align:top}\n",
        ".tg .tg-0slm{border-color:#000000;color:#009901;font-weight:bold;text-align:left;vertical-align:top}\n",
        ".tg .tg-mcqj{border-color:#000000;font-weight:bold;text-align:left;vertical-align:top}\n",
        ".tg .tg-73oq{border-color:#000000;text-align:left;vertical-align:top}\n",
        "</style>\n",
        "<table class=\"tg\">\n",
        "<thead>\n",
        "  <tr>\n",
        "    <th class=\"tg-mcqj\">Test Case No:</th>\n",
        "    <th class=\"tg-mcqj\">Test Case Description</th>\n",
        "    <th class=\"tg-mcqj\">Test Data</th>\n",
        "    <th class=\"tg-mcqj\">Expected Result</th>\n",
        "    <th class=\"tg-mcqj\">Actual Result</th>\n",
        "    <th class=\"tg-mcqj\">Pass/Fail</th>\n",
        "  </tr>\n",
        "</thead>\n",
        "<tbody>\n",
        "  <tr>\n",
        "    <td class=\"tg-73oq\">1</td>\n",
        "    <td class=\"tg-73oq\">Giving a two digit number</td>\n",
        "    <td class=\"tg-73oq\">num = 50</td>\n",
        "    <td class=\"tg-73oq\">50 is a two digit<br>num</td>\n",
        "    <td class=\"tg-73oq\">50 is a two digit<br>num</td>\n",
        "    <td class=\"tg-jokb\">Pass</td>\n",
        "  </tr>\n",
        "  <tr>\n",
        "    <td class=\"tg-73oq\">2</td>\n",
        "    <td class=\"tg-73oq\">Giving a three digit number</td>\n",
        "    <td class=\"tg-73oq\">num = 100</td>\n",
        "    <td class=\"tg-73oq\">100 is not a<br>two digit num</td>\n",
        "    <td class=\"tg-73oq\">100 is not a<br>two digit num</td>\n",
        "    <td class=\"tg-jokb\">Pass</td>\n",
        "  </tr>\n",
        "  <tr>\n",
        "    <td class=\"tg-73oq\">3</td>\n",
        "    <td class=\"tg-73oq\">Giving a string</td>\n",
        "    <td class=\"tg-73oq\">num = a</td>\n",
        "    <td class=\"tg-73oq\">String not possible</td>\n",
        "    <td class=\"tg-73oq\">ValueError</td>\n",
        "    <td class=\"tg-0slm\"><span style=\"font-weight:bold;color:#009901\">Pass</span></td>\n",
        "  </tr>\n",
        "</tbody>\n",
        "</table>"
      ],
      "metadata": {
        "id": "n6piD5wODrVN"
      }
    },
    {
      "cell_type": "markdown",
      "source": [
        "**Program to check whether a number is positive , negative or zero.**"
      ],
      "metadata": {
        "id": "p3dpvLNzDvEu"
      }
    },
    {
      "cell_type": "code",
      "source": [
        "num = float(input(\"Enter a Number \"))\n",
        "if num>0:\n",
        "  print(\"Positive\")\n",
        "elif num<0:\n",
        "  print(\"Negative\")\n",
        "else :\n",
        "  print(\"Zero\")"
      ],
      "metadata": {
        "id": "KbKkSGguD7ri",
        "colab": {
          "base_uri": "https://localhost:8080/"
        },
        "outputId": "061c7c69-baae-46f8-93d3-cc7a452b5b09"
      },
      "execution_count": 27,
      "outputs": [
        {
          "output_type": "stream",
          "name": "stdout",
          "text": [
            "Enter a Number -100\n",
            "Negative\n"
          ]
        }
      ]
    },
    {
      "cell_type": "markdown",
      "source": [
        "Test<style type=\"text/css\">\n",
        ".tg  {border-collapse:collapse;border-color:#93a1a1;border-spacing:0;}\n",
        ".tg td{background-color:#fdf6e3;border-color:#93a1a1;border-style:solid;border-width:1px;color:#002b36;\n",
        "  font-family:Arial, sans-serif;font-size:14px;overflow:hidden;padding:10px 5px;word-break:normal;}\n",
        ".tg th{background-color:#657b83;border-color:#93a1a1;border-style:solid;border-width:1px;color:#fdf6e3;\n",
        "  font-family:Arial, sans-serif;font-size:14px;font-weight:normal;overflow:hidden;padding:10px 5px;word-break:normal;}\n",
        ".tg .tg-jokb{border-color:#000000;color:#009901;text-align:left;vertical-align:top}\n",
        ".tg .tg-0slm{border-color:#000000;color:#009901;font-weight:bold;text-align:left;vertical-align:top}\n",
        ".tg .tg-mcqj{border-color:#000000;font-weight:bold;text-align:left;vertical-align:top}\n",
        ".tg .tg-73oq{border-color:#000000;text-align:left;vertical-align:top}\n",
        "</style>\n",
        "<table class=\"tg\">\n",
        "<thead>\n",
        "  <tr>\n",
        "    <th class=\"tg-mcqj\">Test Case No:</th>\n",
        "    <th class=\"tg-mcqj\">Test Case Description</th>\n",
        "    <th class=\"tg-mcqj\">Test Data</th>\n",
        "    <th class=\"tg-mcqj\">Expected Result</th>\n",
        "    <th class=\"tg-mcqj\">Actual Result</th>\n",
        "    <th class=\"tg-mcqj\">Pass/Fail</th>\n",
        "  </tr>\n",
        "</thead>\n",
        "<tbody>\n",
        "  <tr>\n",
        "    <td class=\"tg-73oq\">1</td>\n",
        "    <td class=\"tg-73oq\">Inputting a positive number</td>\n",
        "    <td class=\"tg-73oq\">num = 50</td>\n",
        "    <td class=\"tg-73oq\">Positive</td>\n",
        "    <td class=\"tg-73oq\">Positive</td>\n",
        "    <td class=\"tg-jokb\">Pass</td>\n",
        "  </tr>\n",
        "  <tr>\n",
        "    <td class=\"tg-73oq\">2</td>\n",
        "    <td class=\"tg-73oq\">Inputting a negative number</td>\n",
        "    <td class=\"tg-73oq\">num = -100</td>\n",
        "    <td class=\"tg-73oq\">Negative</td>\n",
        "    <td class=\"tg-73oq\">Negative</td>\n",
        "    <td class=\"tg-jokb\">Pass</td>\n",
        "  </tr>\n",
        "  <tr>\n",
        "    <td class=\"tg-73oq\">3</td>\n",
        "    <td class=\"tg-73oq\">Inputting zero</td>\n",
        "    <td class=\"tg-73oq\">num = 0</td>\n",
        "    <td class=\"tg-73oq\">Zero</td>\n",
        "    <td class=\"tg-73oq\">Zero</td>\n",
        "    <td class=\"tg-0slm\"><span style=\"font-weight:bold;color:#009901\">Pass</span></td>\n",
        "  </tr>\n",
        "</tbody>\n",
        "</table>"
      ],
      "metadata": {
        "id": "0TIDeVivnVNZ"
      }
    },
    {
      "cell_type": "markdown",
      "source": [
        "**Program to check whether a number is a multiple of another**"
      ],
      "metadata": {
        "id": "Lsd2kKSTlw0C"
      }
    },
    {
      "cell_type": "code",
      "source": [
        "divident=float(input(\"Enter the first number \"))\n",
        "divisor = float(input(\"Enter the multiple number \"))\n",
        "if divident%divisor==0:\n",
        "  print(str(divident)+\" is a multiple of \"+str(divisor))\n",
        "else:\n",
        "  print(str(divident)+\" is not a multiple of \"+str(divisor))"
      ],
      "metadata": {
        "id": "SqM6vqcRl1wI"
      },
      "execution_count": null,
      "outputs": []
    },
    {
      "cell_type": "markdown",
      "source": [
        "<style type=\"text/css\">\n",
        ".tg  {border-collapse:collapse;border-color:#93a1a1;border-spacing:0;}\n",
        ".tg td{background-color:#fdf6e3;border-color:#93a1a1;border-style:solid;border-width:1px;color:#002b36;\n",
        "  font-family:Arial, sans-serif;font-size:14px;overflow:hidden;padding:10px 5px;word-break:normal;}\n",
        ".tg th{background-color:#657b83;border-color:#93a1a1;border-style:solid;border-width:1px;color:#fdf6e3;\n",
        "  font-family:Arial, sans-serif;font-size:14px;font-weight:normal;overflow:hidden;padding:10px 5px;word-break:normal;}\n",
        ".tg .tg-0slm{border-color:#000000;color:#009901;font-weight:bold;text-align:left;vertical-align:top}\n",
        ".tg .tg-mcqj{border-color:#000000;font-weight:bold;text-align:left;vertical-align:top}\n",
        ".tg .tg-73oq{border-color:#000000;text-align:left;vertical-align:top}\n",
        "</style>\n",
        "<table class=\"tg\">\n",
        "<thead>\n",
        "  <tr>\n",
        "    <th class=\"tg-mcqj\">Test Case No:</th>\n",
        "    <th class=\"tg-mcqj\">Test Case Description</th>\n",
        "    <th class=\"tg-mcqj\">Test Data</th>\n",
        "    <th class=\"tg-mcqj\">Expected Result</th>\n",
        "    <th class=\"tg-mcqj\">Actual Result</th>\n",
        "    <th class=\"tg-mcqj\">Pass/Fail</th>\n",
        "  </tr>\n",
        "</thead>\n",
        "<tbody>\n",
        "  <tr>\n",
        "    <td class=\"tg-73oq\">1</td>\n",
        "    <td class=\"tg-73oq\">Giving a real multiple as input</td>\n",
        "    <td class=\"tg-73oq\">dividend = 4<br>divisor = 2</td>\n",
        "    <td class=\"tg-73oq\">4 is a multiple of<br>2</td>\n",
        "    <td class=\"tg-73oq\">4 is a multiple of<br>2</td>\n",
        "    <td class=\"tg-0slm\"><span style=\"font-weight:bold;color:#009901\">Pass</span></td>\n",
        "  </tr>\n",
        "  <tr>\n",
        "    <td class=\"tg-73oq\">2</td>\n",
        "    <td class=\"tg-73oq\">Giving a non multiple as input</td>\n",
        "    <td class=\"tg-73oq\">dividend = 5<br>divisor = 3</td>\n",
        "    <td class=\"tg-73oq\">5 is not a <br>multiple of 3</td>\n",
        "    <td class=\"tg-73oq\">5 is not a <br>multiple of 3</td>\n",
        "    <td class=\"tg-0slm\"><span style=\"font-weight:bold;color:#009901\">Pass</span></td>\n",
        "  </tr>\n",
        "  <tr>\n",
        "    <td class=\"tg-73oq\">3</td>\n",
        "    <td class=\"tg-73oq\">Giving divisor as 0</td>\n",
        "    <td class=\"tg-73oq\">dividend = 5<br>divisor = 0</td>\n",
        "    <td class=\"tg-73oq\">5 is not a multiple<br>of 0</td>\n",
        "    <td class=\"tg-73oq\">Zero Division <br>Error</td>\n",
        "    <td class=\"tg-0slm\">Fail</td>\n",
        "  </tr>\n",
        "</tbody>\n",
        "</table>"
      ],
      "metadata": {
        "id": "e0WyTtTknXbx"
      }
    },
    {
      "cell_type": "markdown",
      "source": [
        "**Program to find the smallest digit in a two digit number.**"
      ],
      "metadata": {
        "id": "9x78jQPYnbqm"
      }
    },
    {
      "cell_type": "code",
      "source": [
        "num = int(input(\"Enter the Two Digit Number\"))\n",
        "digit1=num%10\n",
        "digit2=num//10\n",
        "if digit1>digit2:\n",
        "  print(str(digit2)+\" is the smallest digit in \"+str(num))\n",
        "elif digit1==digit2:\n",
        "  print(\"Both digits are same\")\n",
        "else :\n",
        "  print(str(digit1)+\" is the smallest digit in \"+str(num))\n",
        "\n"
      ],
      "metadata": {
        "id": "im9eOmCNnjwn"
      },
      "execution_count": null,
      "outputs": []
    },
    {
      "cell_type": "markdown",
      "source": [
        "Test<style type=\"text/css\">\n",
        ".tg  {border-collapse:collapse;border-color:#93a1a1;border-spacing:0;}\n",
        ".tg td{background-color:#fdf6e3;border-color:#93a1a1;border-style:solid;border-width:1px;color:#002b36;\n",
        "  font-family:Arial, sans-serif;font-size:14px;overflow:hidden;padding:10px 5px;word-break:normal;}\n",
        ".tg th{background-color:#657b83;border-color:#93a1a1;border-style:solid;border-width:1px;color:#fdf6e3;\n",
        "  font-family:Arial, sans-serif;font-size:14px;font-weight:normal;overflow:hidden;padding:10px 5px;word-break:normal;}\n",
        ".tg .tg-0slm{border-color:#000000;color:#009901;font-weight:bold;text-align:left;vertical-align:top}\n",
        ".tg .tg-mcqj{border-color:#000000;font-weight:bold;text-align:left;vertical-align:top}\n",
        ".tg .tg-73oq{border-color:#000000;text-align:left;vertical-align:top}\n",
        "</style>\n",
        "<table class=\"tg\">\n",
        "<thead>\n",
        "  <tr>\n",
        "    <th class=\"tg-mcqj\">Test Case No:</th>\n",
        "    <th class=\"tg-mcqj\">Test Case Description</th>\n",
        "    <th class=\"tg-mcqj\">Test Data</th>\n",
        "    <th class=\"tg-mcqj\">Expected Result</th>\n",
        "    <th class=\"tg-mcqj\">Actual Result</th>\n",
        "    <th class=\"tg-mcqj\">Pass/Fail</th>\n",
        "  </tr>\n",
        "</thead>\n",
        "<tbody>\n",
        "  <tr>\n",
        "    <td class=\"tg-73oq\">1</td>\n",
        "    <td class=\"tg-73oq\">Giving both digits same</td>\n",
        "    <td class=\"tg-73oq\">num = 99</td>\n",
        "    <td class=\"tg-73oq\">Both are Same</td>\n",
        "    <td class=\"tg-73oq\">Both are Same</td>\n",
        "    <td class=\"tg-0slm\"><span style=\"font-weight:bold;color:#009901\">Pass</span></td>\n",
        "  </tr>\n",
        "  <tr>\n",
        "    <td class=\"tg-73oq\">2</td>\n",
        "    <td class=\"tg-73oq\">Giving a Random Number</td>\n",
        "    <td class=\"tg-73oq\">num = 50</td>\n",
        "    <td class=\"tg-73oq\">0 is the smallest<br>number in 50</td>\n",
        "    <td class=\"tg-73oq\">0 is the smallest<br>number in 50</td>\n",
        "    <td class=\"tg-0slm\"><span style=\"font-weight:bold;color:#009901\">Pass</span></td>\n",
        "  </tr>\n",
        "</tbody>\n",
        "</table>"
      ],
      "metadata": {
        "id": "NAWyxuLSoVJg"
      }
    },
    {
      "cell_type": "markdown",
      "source": [
        "**Program to print the nature of solution of a quadratic equation**"
      ],
      "metadata": {
        "id": "JUC9YF1woZ1u"
      }
    },
    {
      "cell_type": "code",
      "source": [
        "a = float(input(\"Enter the co-efficient of x^2 \"))\n",
        "b = float(input(\"Enter the co-efficient of x \"))\n",
        "c = float(input(\"Enter the constant term \"))\n",
        "d = b*b-(4*a*c)\n",
        "if d==0:\n",
        "  print(\"Real and equal roots\")\n",
        "elif d>0:\n",
        "  print(\"Real and unequal roots\")\n",
        "else:\n",
        "  print(\"Imaginary Root\")"
      ],
      "metadata": {
        "id": "VD0k0upuogEp"
      },
      "execution_count": null,
      "outputs": []
    },
    {
      "cell_type": "markdown",
      "source": [
        "<style type=\"text/css\">\n",
        ".tg  {border-collapse:collapse;border-color:#93a1a1;border-spacing:0;}\n",
        ".tg td{background-color:#fdf6e3;border-color:#93a1a1;border-style:solid;border-width:1px;color:#002b36;\n",
        "  font-family:Arial, sans-serif;font-size:14px;overflow:hidden;padding:10px 5px;word-break:normal;}\n",
        ".tg th{background-color:#657b83;border-color:#93a1a1;border-style:solid;border-width:1px;color:#fdf6e3;\n",
        "  font-family:Arial, sans-serif;font-size:14px;font-weight:normal;overflow:hidden;padding:10px 5px;word-break:normal;}\n",
        ".tg .tg-0slm{border-color:#000000;color:#009901;font-weight:bold;text-align:left;vertical-align:top}\n",
        ".tg .tg-mcqj{border-color:#000000;font-weight:bold;text-align:left;vertical-align:top}\n",
        ".tg .tg-73oq{border-color:#000000;text-align:left;vertical-align:top}\n",
        "</style>\n",
        "<table class=\"tg\">\n",
        "<thead>\n",
        "  <tr>\n",
        "    <th class=\"tg-mcqj\">Test Case No:</th>\n",
        "    <th class=\"tg-mcqj\">Test Case Description</th>\n",
        "    <th class=\"tg-mcqj\">Test Data</th>\n",
        "    <th class=\"tg-mcqj\">Expected Result</th>\n",
        "    <th class=\"tg-mcqj\">Actual Result</th>\n",
        "    <th class=\"tg-mcqj\">Pass/Fail</th>\n",
        "  </tr>\n",
        "</thead>\n",
        "<tbody>\n",
        "  <tr>\n",
        "    <td class=\"tg-73oq\">1</td>\n",
        "    <td class=\"tg-73oq\">Checking with random <br>number</td>\n",
        "    <td class=\"tg-73oq\">a = 15<br>b = 11<br>c = 2</td>\n",
        "    <td class=\"tg-73oq\">Real and uequal <br>roots</td>\n",
        "    <td class=\"tg-73oq\">Real and uequal <br>roots</td>\n",
        "    <td class=\"tg-0slm\"><span style=\"font-weight:bold;color:#009901\">Pass</span></td>\n",
        "  </tr>\n",
        "</tbody>\n",
        "</table>"
      ],
      "metadata": {
        "id": "7E4lQEu4xCu3"
      }
    }
  ]
}