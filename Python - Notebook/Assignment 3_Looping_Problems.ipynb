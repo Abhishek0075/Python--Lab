{
  "nbformat": 4,
  "nbformat_minor": 0,
  "metadata": {
    "colab": {
      "name": "Looping Problems.ipynb",
      "provenance": [],
      "collapsed_sections": []
    },
    "kernelspec": {
      "name": "python3",
      "display_name": "Python 3"
    },
    "language_info": {
      "name": "python"
    }
  },
  "cells": [
    {
      "cell_type": "markdown",
      "source": [
        "**Program to find the reverse of a given number.**\n",
        "\n"
      ],
      "metadata": {
        "id": "-fJmKp8R511c"
      }
    },
    {
      "cell_type": "code",
      "source": [
        "num = int(input(\"Enter the number you want to reverse \"))\n",
        "numcopy = num\n",
        "length = 0\n",
        "reverse = 0\n",
        "\n",
        "while num>0:\n",
        "  num=num//10\n",
        "  length=length+1\n",
        "\n",
        "while numcopy>0:\n",
        "  length=length-1\n",
        "  rem=numcopy%10\n",
        "  reverse=reverse+rem*pow(10,length)\n",
        "  numcopy=numcopy//10\n",
        "\n",
        "print(\"The Reverse of the Number is \"+str(reverse))"
      ],
      "metadata": {
        "id": "5C0F8O-96FJJ"
      },
      "execution_count": null,
      "outputs": []
    },
    {
      "cell_type": "markdown",
      "source": [
        "**Program to find the sum of first N natural numbers**"
      ],
      "metadata": {
        "id": "o1Vp9kwN9slk"
      }
    },
    {
      "cell_type": "code",
      "source": [
        "limit = int(input(\"Enter the number upto which you want the sum \"))\n",
        "sum=0\n",
        "for i in range(1,limit+1):\n",
        "  sum=sum+i\n",
        "print(sum)"
      ],
      "metadata": {
        "id": "IzBhJnuu9zBV"
      },
      "execution_count": null,
      "outputs": []
    },
    {
      "cell_type": "markdown",
      "source": [
        "**Program to print the sum of the factors of a number**"
      ],
      "metadata": {
        "id": "lVhpV3L5-Nvn"
      }
    },
    {
      "cell_type": "code",
      "source": [
        "num = int(input(\"Enter the number \"))\n",
        "sum=0\n",
        "for i in range(1,num+1):\n",
        "  if num%i==0:\n",
        "    sum=sum+i\n",
        "print(sum)"
      ],
      "metadata": {
        "id": "cZo_YvjP-Q7I"
      },
      "execution_count": null,
      "outputs": []
    },
    {
      "cell_type": "markdown",
      "source": [
        "**Program to print the N terms of an  arithmetic sequence**"
      ],
      "metadata": {
        "id": "KEYarbx-_NMm"
      }
    },
    {
      "cell_type": "code",
      "source": [
        "a = int(input(\"Enter the first term of the sequence \"))\n",
        "d = int(input(\"Enter the common difference \"))\n",
        "limit = int(input(\"Enter the limit \"))\n",
        "for i in range(limit):\n",
        "  sequence=a+(i*d)\n",
        "  print(sequence,end=\" , \")"
      ],
      "metadata": {
        "id": "q9gayVwc_R5j"
      },
      "execution_count": null,
      "outputs": []
    },
    {
      "cell_type": "markdown",
      "source": [
        "**Program to print the n terms of the Fibonacci series**"
      ],
      "metadata": {
        "id": "Yde9DaaKBVSj"
      }
    },
    {
      "cell_type": "code",
      "source": [
        "limit = int(input(\"Enter the limit upto which you want the series \"))\n",
        "first_term = 1\n",
        "second_term = 1\n",
        "print(first_term)\n",
        "print(second_term)\n",
        "for i in range (3,limit+1):\n",
        "  print(first_term+second_term)\n",
        "  temp=first_term\n",
        "  first_term=second_term\n",
        "  second_term=temp+second_term"
      ],
      "metadata": {
        "id": "A-MGAHSKBY_B"
      },
      "execution_count": null,
      "outputs": []
    },
    {
      "cell_type": "markdown",
      "source": [
        "**Program to check whether a number is palindrome or not**"
      ],
      "metadata": {
        "id": "yvAjJnttEy1L"
      }
    },
    {
      "cell_type": "code",
      "source": [
        "num = int(input(\"Enter the number you want to check \"))\n",
        "numcopy1 = num\n",
        "numcopy2 = num\n",
        "length = 0\n",
        "reverse = 0\n",
        "\n",
        "while numcopy1>0:\n",
        "  numcopy1=numcopy1//10\n",
        "  length=length+1\n",
        "\n",
        "while numcopy2>0:\n",
        "  length=length-1\n",
        "  rem=numcopy2%10\n",
        "  reverse=reverse+rem*pow(10,length)\n",
        "  numcopy2=numcopy2//10\n",
        "\n",
        "print(reverse)\n",
        "if(reverse==num):\n",
        "  print(\"It is  a paliandrome\")\n",
        "else:\n",
        "  print(\"It is not a paliandrome\")"
      ],
      "metadata": {
        "id": "MaWVlNfpE6Rl"
      },
      "execution_count": null,
      "outputs": []
    },
    {
      "cell_type": "markdown",
      "source": [
        "**Program to check whether a number is Armstrong or not**"
      ],
      "metadata": {
        "id": "mYUZcJHKGACH"
      }
    },
    {
      "cell_type": "code",
      "source": [
        "num = int(input(\"Enter the number \"))\n",
        "numcopy1 = num\n",
        "numcopy2 = num\n",
        "length = 0\n",
        "armstrong = 0\n",
        "\n",
        "while numcopy1>0:\n",
        "  numcopy1=numcopy1//10\n",
        "  length=length+1\n",
        "\n",
        "while numcopy2>0:\n",
        "  rem=numcopy2%10\n",
        "  armstrong=armstrong+pow(rem,length)\n",
        "  numcopy2=numcopy2//10\n",
        "\n",
        "if armstrong==num:\n",
        "  print(\"It is armstrong\")\n",
        "else:\n",
        "  print(\"It is not armstrong\")"
      ],
      "metadata": {
        "id": "m_0flSonGCDE"
      },
      "execution_count": null,
      "outputs": []
    },
    {
      "cell_type": "markdown",
      "source": [
        "**Program to evaluate x^n**"
      ],
      "metadata": {
        "id": "OHdUxASnIwH_"
      }
    },
    {
      "cell_type": "code",
      "source": [
        "base = int(input(\"Enter the base \"))\n",
        "power = int(input(\"Enter the power \"))\n",
        "result=1\n",
        "\n",
        "while power>0:\n",
        "  result=result*base\n",
        "  power=power-1\n",
        "print(result)"
      ],
      "metadata": {
        "id": "QsEH8iydI1zM"
      },
      "execution_count": null,
      "outputs": []
    },
    {
      "cell_type": "markdown",
      "source": [
        "**Program to print first n odd number**\n"
      ],
      "metadata": {
        "id": "BDLMEuTwJ_yN"
      }
    },
    {
      "cell_type": "code",
      "source": [
        "limit = int(input(\"Enter the limit \"))\n",
        "for i in range(1,2*limit,2):\n",
        "  print(i, end=\",\")"
      ],
      "metadata": {
        "id": "8NcK0SnQKC_w"
      },
      "execution_count": null,
      "outputs": []
    },
    {
      "cell_type": "markdown",
      "source": [
        "**Program to print GCD of 2 numbers**"
      ],
      "metadata": {
        "id": "02W7bMANLDwa"
      }
    },
    {
      "cell_type": "code",
      "source": [
        "num1 = int(input(\"Enter the largest number \"))\n",
        "num2 = int(input(\"Enter the smallest number \"))\n",
        "if num1%num2==0:\n",
        "  print(\"GCD is \"+str(num2))\n",
        "else:\n",
        "  while num2!=0:\n",
        "    remainder = num1%num2\n",
        "    num1 = num2\n",
        "    num2 = remainder\n",
        "if num2==0:\n",
        "  print(\"GCD is \"+str(num1))"
      ],
      "metadata": {
        "id": "3QTbdGsyL2mC"
      },
      "execution_count": null,
      "outputs": []
    },
    {
      "cell_type": "markdown",
      "source": [
        "**Program to print factorial of a given number**"
      ],
      "metadata": {
        "id": "sxT6Id4XPbO-"
      }
    },
    {
      "cell_type": "code",
      "source": [
        "num = int(input(\"Enter the Number \"))\n",
        "result = 1\n",
        "while num>0:\n",
        "  result=result*num\n",
        "  num=num-1\n",
        "print(\"The Factorial is \"+str(result))"
      ],
      "metadata": {
        "id": "15vIlgDNPnsl"
      },
      "execution_count": null,
      "outputs": []
    },
    {
      "cell_type": "markdown",
      "source": [
        "**Program to print factorial of a given number.**\n"
      ],
      "metadata": {
        "id": "n3xFggHp1-yB"
      }
    },
    {
      "cell_type": "code",
      "source": [
        "lower = int(input(\"Enter the lower limit \"))\n",
        "upper = int(input(\"Enter the upper limit \"))\n",
        "for i in range(lower+1,upper):\n",
        "  print(i*i,end=\" , \")\n"
      ],
      "metadata": {
        "id": "oDEO79Z_2Fae"
      },
      "execution_count": null,
      "outputs": []
    },
    {
      "cell_type": "markdown",
      "source": [
        "**Program to find the sum of the given series, up to n terms.  S = 1 - 4 + 9 - 16 + ....**"
      ],
      "metadata": {
        "id": "hbYTg5bg3hab"
      }
    },
    {
      "cell_type": "code",
      "source": [
        "n = int(input(\"Enter the no of terms \"))\n",
        "sum=0\n",
        "for i in range(1,n+1):\n",
        "  i=i*i\n",
        "  if i%2==0:\n",
        "    i=i*(-1)\n",
        "  sum=sum+i\n",
        "print(sum)"
      ],
      "metadata": {
        "id": "8FEhpxsv3l9k"
      },
      "execution_count": null,
      "outputs": []
    },
    {
      "cell_type": "markdown",
      "source": [
        "**Program to check whether a given number is Automorphic or not.**"
      ],
      "metadata": {
        "id": "h5481GEW4p93"
      }
    },
    {
      "cell_type": "code",
      "source": [
        "num = int(input(\"Enter the num \"))\n",
        "numcopy = num\n",
        "numcopy2 = num\n",
        "length = 0\n",
        "while numcopy>0:\n",
        "  numcopy = numcopy//10\n",
        "  length = length + 1\n",
        "result = pow(num,2)\n",
        "last_digit = result % pow(10,length)\n",
        "if last_digit == num:\n",
        "  print(\"It is an automorphic number\")\n",
        "else:\n",
        "  print(\"It is not an automorphic number\")"
      ],
      "metadata": {
        "id": "UkuyvcXR4sLR"
      },
      "execution_count": null,
      "outputs": []
    },
    {
      "cell_type": "markdown",
      "source": [
        "**Program to read a binary number and print its decimal equivalent.**"
      ],
      "metadata": {
        "id": "XRJi80qS6TP1"
      }
    },
    {
      "cell_type": "code",
      "source": [
        "binary_number = int(input(\"Enter the binary number \"))\n",
        "binary_number_copy = binary_number\n",
        "length = 0\n",
        "decimal = 0\n",
        "while binary_number_copy>0:\n",
        "  binary_number_copy = binary_number_copy//10\n",
        "  length = length + 1\n",
        "\n",
        "\n",
        "for i in range(length):\n",
        "    remainder = binary_number%10\n",
        "    binary_number = binary_number//10\n",
        "    decimal = decimal + remainder*pow(2,i)\n",
        "\n",
        "print(decimal)"
      ],
      "metadata": {
        "id": "WzvJuxB76WEy"
      },
      "execution_count": null,
      "outputs": []
    }
  ]
}