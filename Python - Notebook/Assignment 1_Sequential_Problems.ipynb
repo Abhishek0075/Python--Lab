{
  "nbformat": 4,
  "nbformat_minor": 0,
  "metadata": {
    "colab": {
      "name": "Sequential Problems.ipynb",
      "provenance": [],
      "collapsed_sections": []
    },
    "kernelspec": {
      "name": "python3",
      "display_name": "Python 3"
    },
    "language_info": {
      "name": "python"
    }
  },
  "cells": [
    {
      "cell_type": "markdown",
      "source": [
        "**Program to Print the Average of Three Numbers**"
      ],
      "metadata": {
        "id": "fd32mRSlw5R7"
      }
    },
    {
      "cell_type": "code",
      "source": [
        "num1 = float(input(\"Enter 1st Number \"))\n",
        "num2 = float(input(\"Enter 2nd Number \"))\n",
        "num3 = float(input(\"Enter 3rd Number \"))\n",
        "average = (num1+num2+num3)/3\n",
        "print(\"The Average is \",average)"
      ],
      "metadata": {
        "id": "NCrYlDcSxC1W"
      },
      "execution_count": null,
      "outputs": []
    },
    {
      "cell_type": "markdown",
      "source": [
        "**Program to Print the Sum and Average of Three Numbers**"
      ],
      "metadata": {
        "id": "xoA8LvjmyJQV"
      }
    },
    {
      "cell_type": "code",
      "source": [
        "num1 = float(input(\"Enter 1st Number \"))\n",
        "num2 = float(input(\"Enter 2nd Number \"))\n",
        "num3 = float(input(\"Enter 3rd Number \"))\n",
        "sum = num1+num2+num3\n",
        "average = sum/3\n",
        "print(\"The Sum is \",sum)\n",
        "print(\"The Average is \",average)"
      ],
      "metadata": {
        "id": "EeIAsiZox-WE"
      },
      "execution_count": null,
      "outputs": []
    },
    {
      "cell_type": "markdown",
      "source": [
        "**Program to Convert the Time Entered in Seconds to Hours , Minutes , Seconds**"
      ],
      "metadata": {
        "id": "UuQB3B75zeQ0"
      }
    },
    {
      "cell_type": "code",
      "source": [
        "seconds = int(input(\"Enter the time in seconds \"))\n",
        "ss = seconds%60\n",
        "mm = seconds//60\n",
        "hh = mm//60\n",
        "mm = mm%60\n",
        "print(hh,\":\",mm,\":\",ss)"
      ],
      "metadata": {
        "id": "iB4n7IcTyda9"
      },
      "execution_count": null,
      "outputs": []
    },
    {
      "cell_type": "markdown",
      "source": [
        "**Program to Print the Area and Perimeter of a Triangle**"
      ],
      "metadata": {
        "id": "XGwv8Nu54Fg9"
      }
    },
    {
      "cell_type": "code",
      "source": [
        "import math\n",
        "\n",
        "a = float(input(\"Enter the length of side A \"))\n",
        "b = float(input(\"Enter the length of side B \"))\n",
        "c = float(input(\"Enter the length of side C \"))\n",
        "perimeter = a+b+c\n",
        "s = (a+b+c)/2\n",
        "area = math.sqrt(s*(s-a)*(s-b)*(s-c))\n",
        "print(\"The Perimeter is \",perimeter)\n",
        "print(\"The Area is \",area)"
      ],
      "metadata": {
        "id": "QT6BV7Ar0kUd"
      },
      "execution_count": null,
      "outputs": []
    },
    {
      "cell_type": "markdown",
      "source": [
        "**Program to Print the Area of a Circle**"
      ],
      "metadata": {
        "id": "AqV9A0LJ6fYN"
      }
    },
    {
      "cell_type": "code",
      "source": [
        "radius = float(input(\"Enter the Radius \"))\n",
        "area = 3.14*radius*radius\n",
        "print(\"The Area of the Circle is \",area)"
      ],
      "metadata": {
        "id": "xQDLA4iI5KvJ"
      },
      "execution_count": null,
      "outputs": []
    },
    {
      "cell_type": "markdown",
      "source": [
        "**Program to Enter two Unequal Number and Interchange them without using a Third Variable**"
      ],
      "metadata": {
        "id": "_DiqyHs27GzM"
      }
    },
    {
      "cell_type": "code",
      "source": [
        "a = int(input(\"Enter A : \"))\n",
        "b = int(input(\"Enter B : \"))\n",
        "a = a+b\n",
        "b = a-b\n",
        "a = a-b\n",
        "print(\"A is \",a)\n",
        "print(\"B is \",b)"
      ],
      "metadata": {
        "id": "3IANPtYK7VTn"
      },
      "execution_count": null,
      "outputs": []
    },
    {
      "cell_type": "markdown",
      "source": [
        "**Program to Display Sum, Difference, Product, Quotient and Remainder of two Unequal Numbers**"
      ],
      "metadata": {
        "id": "9OSa9kAA76iE"
      }
    },
    {
      "cell_type": "code",
      "source": [
        "num1 = float(input(\"Enter 1st Number\"))\n",
        "num2 = float(input(\"Enter 2nd Number\"))\n",
        "print(\"The Sum is \",sum)\n",
        "print(\"The DIfference is \",difference)\n",
        "print(\"The Product is \",product)\n",
        "print(\"The Quotient is \",quotient)\n",
        "print(\"The Remainder is \",remainder)"
      ],
      "metadata": {
        "id": "LnJdtCyg7phS"
      },
      "execution_count": null,
      "outputs": []
    },
    {
      "cell_type": "markdown",
      "source": [
        "**Program to Enter the Number of Days and display into Years, Months and Days**"
      ],
      "metadata": {
        "id": "f3aoqS7q9D0m"
      }
    },
    {
      "cell_type": "code",
      "source": [
        "days = int(input(\"Enter the No of Days \"))\n",
        "dd = days%30\n",
        "month = days//30\n",
        "year = month//12\n",
        "month = month%12\n",
        "print(year,\":\",month,\":\",dd)"
      ],
      "metadata": {
        "id": "dv6GHNZl9NBF"
      },
      "execution_count": null,
      "outputs": []
    }
  ]
}