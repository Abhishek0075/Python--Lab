{
  "nbformat": 4,
  "nbformat_minor": 0,
  "metadata": {
    "colab": {
      "name": "Data_Frames.ipynb",
      "provenance": [],
      "collapsed_sections": []
    },
    "kernelspec": {
      "name": "python3",
      "display_name": "Python 3"
    },
    "language_info": {
      "name": "python"
    }
  },
  "cells": [
    {
      "cell_type": "markdown",
      "source": [
        "3.Create an account in Kaggle.com Download iris dataset from the link https://www.kaggle.com/datasets/saurabh00007/iriscsv Load it using pandas library Prepare the following charts : \n",
        "* Bar chart showing the frequency of species column \n",
        "* Apply PCA to get two principle components and show the data distribution as a scatter plot. (use functon from sklearn) \n",
        "* Show the distribution of each attribute as histogram. \n",
        "Note: for visualization, you can either use matplotlib or seaborn"
      ],
      "metadata": {
        "id": "7bYsYWXrzQc7"
      }
    },
    {
      "cell_type": "code",
      "source": [
        "import pandas as pd\n",
        "import matplotlib.pyplot as plt\n",
        "%matplotlib inline\n",
        "\n",
        "df = pd.read_csv ('/Iris.csv')\n",
        "df.Species.value_counts().plot(figsize=(8,6),kind='bar',color=['r','g','b'],fontsize=14)\n",
        "plt.xlabel('Species',fontsize=18)\n",
        "plt.ylabel('Frequency of Species',fontsize=18)\n",
        "plt.title(\"Frequency Bar Graph\",fontsize=20)\n",
        "plt.show()"
      ],
      "metadata": {
        "colab": {
          "base_uri": "https://localhost:8080/",
          "height": 501
        },
        "id": "VIhZtStBzzyB",
        "outputId": "8d32cf03-6713-4e65-ed6e-8d89bbb107d0"
      },
      "execution_count": null,
      "outputs": [
        {
          "output_type": "display_data",
          "data": {
            "text/plain": [
              "<Figure size 576x432 with 1 Axes>"
            ],
            "image/png": "[encoded data removed]"
          },
          "metadata": {
            "needs_background": "light"
          }
        }
      ]
    },
    {
      "cell_type": "markdown",
      "source": [
        "#**Scatter Plot - Losing Species Data**\n",
        "\n"
      ],
      "metadata": {
        "id": "AoH3sdhCK1bX"
      }
    },
    {
      "cell_type": "code",
      "source": [
        "from sklearn import preprocessing \n",
        "label_encoder = preprocessing.LabelEncoder() \n",
        "df['Species'] = label_encoder.fit_transform(df['Species']) \n",
        "df['Species'].unique()\n",
        "\n",
        "scaler=preprocessing.StandardScaler()\n",
        "scaler.fit(df)\n",
        "preprocessing.StandardScaler(copy=True, with_mean=True, with_std=True)\n",
        "scaled_data=scaler.transform(df)\n",
        "scaled_data\n",
        "\n",
        "from sklearn.decomposition import PCA\n",
        "pca=PCA(n_components=2)\n",
        "pca.fit(scaled_data)\n",
        "PCA(copy=True, iterated_power='auto', n_components=2, random_state=None,svd_solver='auto', tol=0.0, whiten=False)\n",
        "x_pca=pca.transform(scaled_data)\n",
        "scaled_data.shape\n",
        "x_pca.shape"
      ],
      "metadata": {
        "colab": {
          "base_uri": "https://localhost:8080/"
        },
        "id": "Ekajs8lJ04x0",
        "outputId": "79966a20-5270-4028-8e17-ac4b775b422a"
      },
      "execution_count": null,
      "outputs": [
        {
          "output_type": "execute_result",
          "data": {
            "text/plain": [
              "(150, 2)"
            ]
          },
          "metadata": {},
          "execution_count": 5
        }
      ]
    },
    {
      "cell_type": "code",
      "source": [
        "scaled_data"
      ],
      "metadata": {
        "colab": {
          "base_uri": "https://localhost:8080/"
        },
        "id": "EyqR8VL2W5hM",
        "outputId": "cfbc1c87-91b0-4f5d-b5ec-e7e77cda4b3f"
      },
      "execution_count": null,
      "outputs": [
        {
          "output_type": "execute_result",
          "data": {
            "text/plain": [
              "array([[-1.72054204e+00, -9.00681170e-01,  1.03205722e+00,\n",
              "        -1.34127240e+00, -1.31297673e+00, -1.22474487e+00],\n",
              "       [-1.69744751e+00, -1.14301691e+00, -1.24957601e-01,\n",
              "        -1.34127240e+00, -1.31297673e+00, -1.22474487e+00],\n",
              "       [-1.67435299e+00, -1.38535265e+00,  3.37848329e-01,\n",
              "        -1.39813811e+00, -1.31297673e+00, -1.22474487e+00],\n",
              "       [-1.65125846e+00, -1.50652052e+00,  1.06445364e-01,\n",
              "        -1.28440670e+00, -1.31297673e+00, -1.22474487e+00],\n",
              "       [-1.62816394e+00, -1.02184904e+00,  1.26346019e+00,\n",
              "        -1.34127240e+00, -1.31297673e+00, -1.22474487e+00],\n",
              "       [-1.60506942e+00, -5.37177559e-01,  1.95766909e+00,\n",
              "        -1.17067529e+00, -1.05003079e+00, -1.22474487e+00],\n",
              "       [-1.58197489e+00, -1.50652052e+00,  8.00654259e-01,\n",
              "        -1.34127240e+00, -1.18150376e+00, -1.22474487e+00],\n",
              "       [-1.55888037e+00, -1.02184904e+00,  8.00654259e-01,\n",
              "        -1.28440670e+00, -1.31297673e+00, -1.22474487e+00],\n",
              "       [-1.53578584e+00, -1.74885626e+00, -3.56360566e-01,\n",
              "        -1.34127240e+00, -1.31297673e+00, -1.22474487e+00],\n",
              "       [-1.51269132e+00, -1.14301691e+00,  1.06445364e-01,\n",
              "        -1.28440670e+00, -1.44444970e+00, -1.22474487e+00],\n",
              "       [-1.48959680e+00, -5.37177559e-01,  1.49486315e+00,\n",
              "        -1.28440670e+00, -1.31297673e+00, -1.22474487e+00],\n",
              "       [-1.46650227e+00, -1.26418478e+00,  8.00654259e-01,\n",
              "        -1.22754100e+00, -1.31297673e+00, -1.22474487e+00],\n",
              "       [-1.44340775e+00, -1.26418478e+00, -1.24957601e-01,\n",
              "        -1.34127240e+00, -1.44444970e+00, -1.22474487e+00],\n",
              "       [-1.42031323e+00, -1.87002413e+00, -1.24957601e-01,\n",
              "        -1.51186952e+00, -1.44444970e+00, -1.22474487e+00],\n",
              "       [-1.39721870e+00, -5.25060772e-02,  2.18907205e+00,\n",
              "        -1.45500381e+00, -1.31297673e+00, -1.22474487e+00],\n",
              "       [-1.37412418e+00, -1.73673948e-01,  3.11468391e+00,\n",
              "        -1.28440670e+00, -1.05003079e+00, -1.22474487e+00],\n",
              "       [-1.35102965e+00, -5.37177559e-01,  1.95766909e+00,\n",
              "        -1.39813811e+00, -1.05003079e+00, -1.22474487e+00],\n",
              "       [-1.32793513e+00, -9.00681170e-01,  1.03205722e+00,\n",
              "        -1.34127240e+00, -1.18150376e+00, -1.22474487e+00],\n",
              "       [-1.30484061e+00, -1.73673948e-01,  1.72626612e+00,\n",
              "        -1.17067529e+00, -1.18150376e+00, -1.22474487e+00],\n",
              "       [-1.28174608e+00, -9.00681170e-01,  1.72626612e+00,\n",
              "        -1.28440670e+00, -1.18150376e+00, -1.22474487e+00],\n",
              "       [-1.25865156e+00, -5.37177559e-01,  8.00654259e-01,\n",
              "        -1.17067529e+00, -1.31297673e+00, -1.22474487e+00],\n",
              "       [-1.23555703e+00, -9.00681170e-01,  1.49486315e+00,\n",
              "        -1.28440670e+00, -1.05003079e+00, -1.22474487e+00],\n",
              "       [-1.21246251e+00, -1.50652052e+00,  1.26346019e+00,\n",
              "        -1.56873522e+00, -1.31297673e+00, -1.22474487e+00],\n",
              "       [-1.18936799e+00, -9.00681170e-01,  5.69251294e-01,\n",
              "        -1.17067529e+00, -9.18557817e-01, -1.22474487e+00],\n",
              "       [-1.16627346e+00, -1.26418478e+00,  8.00654259e-01,\n",
              "        -1.05694388e+00, -1.31297673e+00, -1.22474487e+00],\n",
              "       [-1.14317894e+00, -1.02184904e+00, -1.24957601e-01,\n",
              "        -1.22754100e+00, -1.31297673e+00, -1.22474487e+00],\n",
              "       [-1.12008441e+00, -1.02184904e+00,  8.00654259e-01,\n",
              "        -1.22754100e+00, -1.05003079e+00, -1.22474487e+00],\n",
              "       [-1.09698989e+00, -7.79513300e-01,  1.03205722e+00,\n",
              "        -1.28440670e+00, -1.31297673e+00, -1.22474487e+00],\n",
              "       [-1.07389537e+00, -7.79513300e-01,  8.00654259e-01,\n",
              "        -1.34127240e+00, -1.31297673e+00, -1.22474487e+00],\n",
              "       [-1.05080084e+00, -1.38535265e+00,  3.37848329e-01,\n",
              "        -1.22754100e+00, -1.31297673e+00, -1.22474487e+00],\n",
              "       [-1.02770632e+00, -1.26418478e+00,  1.06445364e-01,\n",
              "        -1.22754100e+00, -1.31297673e+00, -1.22474487e+00],\n",
              "       [-1.00461179e+00, -5.37177559e-01,  8.00654259e-01,\n",
              "        -1.28440670e+00, -1.05003079e+00, -1.22474487e+00],\n",
              "       [-9.81517269e-01, -7.79513300e-01,  2.42047502e+00,\n",
              "        -1.28440670e+00, -1.44444970e+00, -1.22474487e+00],\n",
              "       [-9.58422745e-01, -4.16009689e-01,  2.65187798e+00,\n",
              "        -1.34127240e+00, -1.31297673e+00, -1.22474487e+00],\n",
              "       [-9.35328221e-01, -1.14301691e+00,  1.06445364e-01,\n",
              "        -1.28440670e+00, -1.44444970e+00, -1.22474487e+00],\n",
              "       [-9.12233697e-01, -1.02184904e+00,  3.37848329e-01,\n",
              "        -1.45500381e+00, -1.31297673e+00, -1.22474487e+00],\n",
              "       [-8.89139173e-01, -4.16009689e-01,  1.03205722e+00,\n",
              "        -1.39813811e+00, -1.31297673e+00, -1.22474487e+00],\n",
              "       [-8.66044649e-01, -1.14301691e+00,  1.06445364e-01,\n",
              "        -1.28440670e+00, -1.44444970e+00, -1.22474487e+00],\n",
              "       [-8.42950125e-01, -1.74885626e+00, -1.24957601e-01,\n",
              "        -1.39813811e+00, -1.31297673e+00, -1.22474487e+00],\n",
              "       [-8.19855601e-01, -9.00681170e-01,  8.00654259e-01,\n",
              "        -1.28440670e+00, -1.31297673e+00, -1.22474487e+00],\n",
              "       [-7.96761077e-01, -1.02184904e+00,  1.03205722e+00,\n",
              "        -1.39813811e+00, -1.18150376e+00, -1.22474487e+00],\n",
              "       [-7.73666553e-01, -1.62768839e+00, -1.74477836e+00,\n",
              "        -1.39813811e+00, -1.18150376e+00, -1.22474487e+00],\n",
              "       [-7.50572030e-01, -1.74885626e+00,  3.37848329e-01,\n",
              "        -1.39813811e+00, -1.31297673e+00, -1.22474487e+00],\n",
              "       [-7.27477506e-01, -1.02184904e+00,  1.03205722e+00,\n",
              "        -1.22754100e+00, -7.87084847e-01, -1.22474487e+00],\n",
              "       [-7.04382982e-01, -9.00681170e-01,  1.72626612e+00,\n",
              "        -1.05694388e+00, -1.05003079e+00, -1.22474487e+00],\n",
              "       [-6.81288458e-01, -1.26418478e+00, -1.24957601e-01,\n",
              "        -1.34127240e+00, -1.18150376e+00, -1.22474487e+00],\n",
              "       [-6.58193934e-01, -9.00681170e-01,  1.72626612e+00,\n",
              "        -1.22754100e+00, -1.31297673e+00, -1.22474487e+00],\n",
              "       [-6.35099410e-01, -1.50652052e+00,  3.37848329e-01,\n",
              "        -1.34127240e+00, -1.31297673e+00, -1.22474487e+00],\n",
              "       [-6.12004886e-01, -6.58345429e-01,  1.49486315e+00,\n",
              "        -1.28440670e+00, -1.31297673e+00, -1.22474487e+00],\n",
              "       [-5.88910362e-01, -1.02184904e+00,  5.69251294e-01,\n",
              "        -1.34127240e+00, -1.31297673e+00, -1.22474487e+00],\n",
              "       [-5.65815838e-01,  1.40150837e+00,  3.37848329e-01,\n",
              "         5.35295827e-01,  2.64698913e-01,  0.00000000e+00],\n",
              "       [-5.42721314e-01,  6.74501145e-01,  3.37848329e-01,\n",
              "         4.21564419e-01,  3.96171883e-01,  0.00000000e+00],\n",
              "       [-5.19626790e-01,  1.28034050e+00,  1.06445364e-01,\n",
              "         6.49027235e-01,  3.96171883e-01,  0.00000000e+00],\n",
              "       [-4.96532266e-01, -4.16009689e-01, -1.74477836e+00,\n",
              "         1.37235899e-01,  1.33225943e-01,  0.00000000e+00],\n",
              "       [-4.73437742e-01,  7.95669016e-01, -5.87763531e-01,\n",
              "         4.78430123e-01,  3.96171883e-01,  0.00000000e+00],\n",
              "       [-4.50343218e-01, -1.73673948e-01, -5.87763531e-01,\n",
              "         4.21564419e-01,  1.33225943e-01,  0.00000000e+00],\n",
              "       [-4.27248694e-01,  5.53333275e-01,  5.69251294e-01,\n",
              "         5.35295827e-01,  5.27644853e-01,  0.00000000e+00],\n",
              "       [-4.04154170e-01, -1.14301691e+00, -1.51337539e+00,\n",
              "        -2.60824029e-01, -2.61192967e-01,  0.00000000e+00],\n",
              "       [-3.81059646e-01,  9.16836886e-01, -3.56360566e-01,\n",
              "         4.78430123e-01,  1.33225943e-01,  0.00000000e+00],\n",
              "       [-3.57965122e-01, -7.79513300e-01, -8.19166497e-01,\n",
              "         8.03701950e-02,  2.64698913e-01,  0.00000000e+00],\n",
              "       [-3.34870598e-01, -1.02184904e+00, -2.43898725e+00,\n",
              "        -1.47092621e-01, -2.61192967e-01,  0.00000000e+00],\n",
              "       [-3.11776074e-01,  6.86617933e-02, -1.24957601e-01,\n",
              "         2.50967307e-01,  3.96171883e-01,  0.00000000e+00],\n",
              "       [-2.88681550e-01,  1.89829664e-01, -1.97618132e+00,\n",
              "         1.37235899e-01, -2.61192967e-01,  0.00000000e+00],\n",
              "       [-2.65587026e-01,  3.10997534e-01, -3.56360566e-01,\n",
              "         5.35295827e-01,  2.64698913e-01,  0.00000000e+00],\n",
              "       [-2.42492502e-01, -2.94841818e-01, -3.56360566e-01,\n",
              "        -9.02269170e-02,  1.33225943e-01,  0.00000000e+00],\n",
              "       [-2.19397978e-01,  1.03800476e+00,  1.06445364e-01,\n",
              "         3.64698715e-01,  2.64698913e-01,  0.00000000e+00],\n",
              "       [-1.96303454e-01, -2.94841818e-01, -1.24957601e-01,\n",
              "         4.21564419e-01,  3.96171883e-01,  0.00000000e+00],\n",
              "       [-1.73208930e-01, -5.25060772e-02, -8.19166497e-01,\n",
              "         1.94101603e-01, -2.61192967e-01,  0.00000000e+00],\n",
              "       [-1.50114406e-01,  4.32165405e-01, -1.97618132e+00,\n",
              "         4.21564419e-01,  3.96171883e-01,  0.00000000e+00],\n",
              "       [-1.27019882e-01, -2.94841818e-01, -1.28197243e+00,\n",
              "         8.03701950e-02, -1.29719997e-01,  0.00000000e+00],\n",
              "       [-1.03925358e-01,  6.86617933e-02,  3.37848329e-01,\n",
              "         5.92161531e-01,  7.90590793e-01,  0.00000000e+00],\n",
              "       [-8.08308339e-02,  3.10997534e-01, -5.87763531e-01,\n",
              "         1.37235899e-01,  1.33225943e-01,  0.00000000e+00],\n",
              "       [-5.77363100e-02,  5.53333275e-01, -1.28197243e+00,\n",
              "         6.49027235e-01,  3.96171883e-01,  0.00000000e+00],\n",
              "       [-3.46417860e-02,  3.10997534e-01, -5.87763531e-01,\n",
              "         5.35295827e-01,  1.75297293e-03,  0.00000000e+00],\n",
              "       [-1.15472620e-02,  6.74501145e-01, -3.56360566e-01,\n",
              "         3.07833011e-01,  1.33225943e-01,  0.00000000e+00],\n",
              "       [ 1.15472620e-02,  9.16836886e-01, -1.24957601e-01,\n",
              "         3.64698715e-01,  2.64698913e-01,  0.00000000e+00],\n",
              "       [ 3.46417860e-02,  1.15917263e+00, -5.87763531e-01,\n",
              "         5.92161531e-01,  2.64698913e-01,  0.00000000e+00],\n",
              "       [ 5.77363100e-02,  1.03800476e+00, -1.24957601e-01,\n",
              "         7.05892939e-01,  6.59117823e-01,  0.00000000e+00],\n",
              "       [ 8.08308339e-02,  1.89829664e-01, -3.56360566e-01,\n",
              "         4.21564419e-01,  3.96171883e-01,  0.00000000e+00],\n",
              "       [ 1.03925358e-01, -1.73673948e-01, -1.05056946e+00,\n",
              "        -1.47092621e-01, -2.61192967e-01,  0.00000000e+00],\n",
              "       [ 1.27019882e-01, -4.16009689e-01, -1.51337539e+00,\n",
              "         2.35044910e-02, -1.29719997e-01,  0.00000000e+00],\n",
              "       [ 1.50114406e-01, -4.16009689e-01, -1.51337539e+00,\n",
              "        -3.33612130e-02, -2.61192967e-01,  0.00000000e+00],\n",
              "       [ 1.73208930e-01, -5.25060772e-02, -8.19166497e-01,\n",
              "         8.03701950e-02,  1.75297293e-03,  0.00000000e+00],\n",
              "       [ 1.96303454e-01,  1.89829664e-01, -8.19166497e-01,\n",
              "         7.62758643e-01,  5.27644853e-01,  0.00000000e+00],\n",
              "       [ 2.19397978e-01, -5.37177559e-01, -1.24957601e-01,\n",
              "         4.21564419e-01,  3.96171883e-01,  0.00000000e+00],\n",
              "       [ 2.42492502e-01,  1.89829664e-01,  8.00654259e-01,\n",
              "         4.21564419e-01,  5.27644853e-01,  0.00000000e+00],\n",
              "       [ 2.65587026e-01,  1.03800476e+00,  1.06445364e-01,\n",
              "         5.35295827e-01,  3.96171883e-01,  0.00000000e+00],\n",
              "       [ 2.88681550e-01,  5.53333275e-01, -1.74477836e+00,\n",
              "         3.64698715e-01,  1.33225943e-01,  0.00000000e+00],\n",
              "       [ 3.11776074e-01, -2.94841818e-01, -1.24957601e-01,\n",
              "         1.94101603e-01,  1.33225943e-01,  0.00000000e+00],\n",
              "       [ 3.34870598e-01, -4.16009689e-01, -1.28197243e+00,\n",
              "         1.37235899e-01,  1.33225943e-01,  0.00000000e+00],\n",
              "       [ 3.57965122e-01, -4.16009689e-01, -1.05056946e+00,\n",
              "         3.64698715e-01,  1.75297293e-03,  0.00000000e+00],\n",
              "       [ 3.81059646e-01,  3.10997534e-01, -1.24957601e-01,\n",
              "         4.78430123e-01,  2.64698913e-01,  0.00000000e+00],\n",
              "       [ 4.04154170e-01, -5.25060772e-02, -1.05056946e+00,\n",
              "         1.37235899e-01,  1.75297293e-03,  0.00000000e+00],\n",
              "       [ 4.27248694e-01, -1.02184904e+00, -1.74477836e+00,\n",
              "        -2.60824029e-01, -2.61192967e-01,  0.00000000e+00],\n",
              "       [ 4.50343218e-01, -2.94841818e-01, -8.19166497e-01,\n",
              "         2.50967307e-01,  1.33225943e-01,  0.00000000e+00],\n",
              "       [ 4.73437742e-01, -1.73673948e-01, -1.24957601e-01,\n",
              "         2.50967307e-01,  1.75297293e-03,  0.00000000e+00],\n",
              "       [ 4.96532266e-01, -1.73673948e-01, -3.56360566e-01,\n",
              "         2.50967307e-01,  1.33225943e-01,  0.00000000e+00],\n",
              "       [ 5.19626790e-01,  4.32165405e-01, -3.56360566e-01,\n",
              "         3.07833011e-01,  1.33225943e-01,  0.00000000e+00],\n",
              "       [ 5.42721314e-01, -9.00681170e-01, -1.28197243e+00,\n",
              "        -4.31421141e-01, -1.29719997e-01,  0.00000000e+00],\n",
              "       [ 5.65815838e-01, -1.73673948e-01, -5.87763531e-01,\n",
              "         1.94101603e-01,  1.33225943e-01,  0.00000000e+00],\n",
              "       [ 5.88910362e-01,  5.53333275e-01,  5.69251294e-01,\n",
              "         1.27454998e+00,  1.71090158e+00,  1.22474487e+00],\n",
              "       [ 6.12004886e-01, -5.25060772e-02, -8.19166497e-01,\n",
              "         7.62758643e-01,  9.22063763e-01,  1.22474487e+00],\n",
              "       [ 6.35099410e-01,  1.52267624e+00, -1.24957601e-01,\n",
              "         1.21768427e+00,  1.18500970e+00,  1.22474487e+00],\n",
              "       [ 6.58193934e-01,  5.53333275e-01, -3.56360566e-01,\n",
              "         1.04708716e+00,  7.90590793e-01,  1.22474487e+00],\n",
              "       [ 6.81288458e-01,  7.95669016e-01, -1.24957601e-01,\n",
              "         1.16081857e+00,  1.31648267e+00,  1.22474487e+00],\n",
              "       [ 7.04382982e-01,  2.12851559e+00, -1.24957601e-01,\n",
              "         1.61574420e+00,  1.18500970e+00,  1.22474487e+00],\n",
              "       [ 7.27477506e-01, -1.14301691e+00, -1.28197243e+00,\n",
              "         4.21564419e-01,  6.59117823e-01,  1.22474487e+00],\n",
              "       [ 7.50572030e-01,  1.76501198e+00, -3.56360566e-01,\n",
              "         1.44514709e+00,  7.90590793e-01,  1.22474487e+00],\n",
              "       [ 7.73666553e-01,  1.03800476e+00, -1.28197243e+00,\n",
              "         1.16081857e+00,  7.90590793e-01,  1.22474487e+00],\n",
              "       [ 7.96761077e-01,  1.64384411e+00,  1.26346019e+00,\n",
              "         1.33141568e+00,  1.71090158e+00,  1.22474487e+00],\n",
              "       [ 8.19855601e-01,  7.95669016e-01,  3.37848329e-01,\n",
              "         7.62758643e-01,  1.05353673e+00,  1.22474487e+00],\n",
              "       [ 8.42950125e-01,  6.74501145e-01, -8.19166497e-01,\n",
              "         8.76490051e-01,  9.22063763e-01,  1.22474487e+00],\n",
              "       [ 8.66044649e-01,  1.15917263e+00, -1.24957601e-01,\n",
              "         9.90221459e-01,  1.18500970e+00,  1.22474487e+00],\n",
              "       [ 8.89139173e-01, -1.73673948e-01, -1.28197243e+00,\n",
              "         7.05892939e-01,  1.05353673e+00,  1.22474487e+00],\n",
              "       [ 9.12233697e-01, -5.25060772e-02, -5.87763531e-01,\n",
              "         7.62758643e-01,  1.57942861e+00,  1.22474487e+00],\n",
              "       [ 9.35328221e-01,  6.74501145e-01,  3.37848329e-01,\n",
              "         8.76490051e-01,  1.44795564e+00,  1.22474487e+00],\n",
              "       [ 9.58422745e-01,  7.95669016e-01, -1.24957601e-01,\n",
              "         9.90221459e-01,  7.90590793e-01,  1.22474487e+00],\n",
              "       [ 9.81517269e-01,  2.24968346e+00,  1.72626612e+00,\n",
              "         1.67260991e+00,  1.31648267e+00,  1.22474487e+00],\n",
              "       [ 1.00461179e+00,  2.24968346e+00, -1.05056946e+00,\n",
              "         1.78634131e+00,  1.44795564e+00,  1.22474487e+00],\n",
              "       [ 1.02770632e+00,  1.89829664e-01, -1.97618132e+00,\n",
              "         7.05892939e-01,  3.96171883e-01,  1.22474487e+00],\n",
              "       [ 1.05080084e+00,  1.28034050e+00,  3.37848329e-01,\n",
              "         1.10395287e+00,  1.44795564e+00,  1.22474487e+00],\n",
              "       [ 1.07389537e+00, -2.94841818e-01, -5.87763531e-01,\n",
              "         6.49027235e-01,  1.05353673e+00,  1.22474487e+00],\n",
              "       [ 1.09698989e+00,  2.24968346e+00, -5.87763531e-01,\n",
              "         1.67260991e+00,  1.05353673e+00,  1.22474487e+00],\n",
              "       [ 1.12008441e+00,  5.53333275e-01, -8.19166497e-01,\n",
              "         6.49027235e-01,  7.90590793e-01,  1.22474487e+00],\n",
              "       [ 1.14317894e+00,  1.03800476e+00,  5.69251294e-01,\n",
              "         1.10395287e+00,  1.18500970e+00,  1.22474487e+00],\n",
              "       [ 1.16627346e+00,  1.64384411e+00,  3.37848329e-01,\n",
              "         1.27454998e+00,  7.90590793e-01,  1.22474487e+00],\n",
              "       [ 1.18936799e+00,  4.32165405e-01, -5.87763531e-01,\n",
              "         5.92161531e-01,  7.90590793e-01,  1.22474487e+00],\n",
              "       [ 1.21246251e+00,  3.10997534e-01, -1.24957601e-01,\n",
              "         6.49027235e-01,  7.90590793e-01,  1.22474487e+00],\n",
              "       [ 1.23555703e+00,  6.74501145e-01, -5.87763531e-01,\n",
              "         1.04708716e+00,  1.18500970e+00,  1.22474487e+00],\n",
              "       [ 1.25865156e+00,  1.64384411e+00, -1.24957601e-01,\n",
              "         1.16081857e+00,  5.27644853e-01,  1.22474487e+00],\n",
              "       [ 1.28174608e+00,  1.88617985e+00, -5.87763531e-01,\n",
              "         1.33141568e+00,  9.22063763e-01,  1.22474487e+00],\n",
              "       [ 1.30484061e+00,  2.49201920e+00,  1.72626612e+00,\n",
              "         1.50201279e+00,  1.05353673e+00,  1.22474487e+00],\n",
              "       [ 1.32793513e+00,  6.74501145e-01, -5.87763531e-01,\n",
              "         1.04708716e+00,  1.31648267e+00,  1.22474487e+00],\n",
              "       [ 1.35102965e+00,  5.53333275e-01, -5.87763531e-01,\n",
              "         7.62758643e-01,  3.96171883e-01,  1.22474487e+00],\n",
              "       [ 1.37412418e+00,  3.10997534e-01, -1.05056946e+00,\n",
              "         1.04708716e+00,  2.64698913e-01,  1.22474487e+00],\n",
              "       [ 1.39721870e+00,  2.24968346e+00, -1.24957601e-01,\n",
              "         1.33141568e+00,  1.44795564e+00,  1.22474487e+00],\n",
              "       [ 1.42031323e+00,  5.53333275e-01,  8.00654259e-01,\n",
              "         1.04708716e+00,  1.57942861e+00,  1.22474487e+00],\n",
              "       [ 1.44340775e+00,  6.74501145e-01,  1.06445364e-01,\n",
              "         9.90221459e-01,  7.90590793e-01,  1.22474487e+00],\n",
              "       [ 1.46650227e+00,  1.89829664e-01, -1.24957601e-01,\n",
              "         5.92161531e-01,  7.90590793e-01,  1.22474487e+00],\n",
              "       [ 1.48959680e+00,  1.28034050e+00,  1.06445364e-01,\n",
              "         9.33355755e-01,  1.18500970e+00,  1.22474487e+00],\n",
              "       [ 1.51269132e+00,  1.03800476e+00,  1.06445364e-01,\n",
              "         1.04708716e+00,  1.57942861e+00,  1.22474487e+00],\n",
              "       [ 1.53578584e+00,  1.28034050e+00,  1.06445364e-01,\n",
              "         7.62758643e-01,  1.44795564e+00,  1.22474487e+00],\n",
              "       [ 1.55888037e+00, -5.25060772e-02, -8.19166497e-01,\n",
              "         7.62758643e-01,  9.22063763e-01,  1.22474487e+00],\n",
              "       [ 1.58197489e+00,  1.15917263e+00,  3.37848329e-01,\n",
              "         1.21768427e+00,  1.44795564e+00,  1.22474487e+00],\n",
              "       [ 1.60506942e+00,  1.03800476e+00,  5.69251294e-01,\n",
              "         1.10395287e+00,  1.71090158e+00,  1.22474487e+00],\n",
              "       [ 1.62816394e+00,  1.03800476e+00, -1.24957601e-01,\n",
              "         8.19624347e-01,  1.44795564e+00,  1.22474487e+00],\n",
              "       [ 1.65125846e+00,  5.53333275e-01, -1.28197243e+00,\n",
              "         7.05892939e-01,  9.22063763e-01,  1.22474487e+00],\n",
              "       [ 1.67435299e+00,  7.95669016e-01, -1.24957601e-01,\n",
              "         8.19624347e-01,  1.05353673e+00,  1.22474487e+00],\n",
              "       [ 1.69744751e+00,  4.32165405e-01,  8.00654259e-01,\n",
              "         9.33355755e-01,  1.44795564e+00,  1.22474487e+00],\n",
              "       [ 1.72054204e+00,  6.86617933e-02, -1.24957601e-01,\n",
              "         7.62758643e-01,  7.90590793e-01,  1.22474487e+00]])"
            ]
          },
          "metadata": {},
          "execution_count": 78
        }
      ]
    },
    {
      "cell_type": "code",
      "source": [
        "x_pca"
      ],
      "metadata": {
        "colab": {
          "base_uri": "https://localhost:8080/"
        },
        "id": "C6JErovs7Afj",
        "outputId": "80b2de14-ce0f-4260-910e-559e23f7f278"
      },
      "execution_count": null,
      "outputs": [
        {
          "output_type": "execute_result",
          "data": {
            "text/plain": [
              "array([[-3.06870864e+00,  5.01703717e-01],\n",
              "       [-2.91635814e+00, -6.55182384e-01],\n",
              "       [-3.12292239e+00, -3.25779802e-01],\n",
              "       [-3.06135577e+00, -5.81791127e-01],\n",
              "       [-3.12399236e+00,  6.65657180e-01],\n",
              "       [-2.86967329e+00,  1.51538764e+00],\n",
              "       [-3.14075694e+00,  6.26192739e-02],\n",
              "       [-2.97291116e+00,  2.40902026e-01],\n",
              "       [-3.03754110e+00, -1.10471002e+00],\n",
              "       [-2.91707320e+00, -4.54524406e-01],\n",
              "       [-2.89448407e+00,  1.06407872e+00],\n",
              "       [-3.00251999e+00,  1.47438579e-01],\n",
              "       [-2.91309422e+00, -7.17170187e-01],\n",
              "       [-3.21958214e+00, -9.56867133e-01],\n",
              "       [-2.88366213e+00,  1.88110450e+00],\n",
              "       [-2.91580304e+00,  2.70988576e+00],\n",
              "       [-2.86297754e+00,  1.50251220e+00],\n",
              "       [-2.83925875e+00,  5.03443194e-01],\n",
              "       [-2.60769091e+00,  1.42667276e+00],\n",
              "       [-2.93608116e+00,  1.14215573e+00],\n",
              "       [-2.59982884e+00,  4.25231081e-01],\n",
              "       [-2.80931675e+00,  9.38551476e-01],\n",
              "       [-3.23828023e+00,  4.62560136e-01],\n",
              "       [-2.48807223e+00,  1.00934984e-01],\n",
              "       [-2.79466965e+00,  1.46819935e-01],\n",
              "       [-2.57641283e+00, -6.16299887e-01],\n",
              "       [-2.63839986e+00,  2.53523206e-01],\n",
              "       [-2.72458502e+00,  5.37246468e-01],\n",
              "       [-2.69286451e+00,  3.22276974e-01],\n",
              "       [-2.77482688e+00, -3.33168006e-01],\n",
              "       [-2.66945559e+00, -4.99539170e-01],\n",
              "       [-2.42308031e+00,  4.36053205e-01],\n",
              "       [-3.01911293e+00,  1.80045009e+00],\n",
              "       [-2.88006503e+00,  2.16076153e+00],\n",
              "       [-2.66663538e+00, -4.66612906e-01],\n",
              "       [-2.67488903e+00, -2.03498128e-01],\n",
              "       [-2.54284619e+00,  6.69243976e-01],\n",
              "       [-2.63658284e+00, -4.68063526e-01],\n",
              "       [-2.81046715e+00, -9.08508519e-01],\n",
              "       [-2.60457420e+00,  2.72137953e-01],\n",
              "       [-2.68250673e+00,  4.43723443e-01],\n",
              "       [-2.34044536e+00, -2.34146808e+00],\n",
              "       [-2.86555154e+00, -4.85249019e-01],\n",
              "       [-2.39737502e+00,  4.77819170e-01],\n",
              "       [-2.52299428e+00,  1.14758339e+00],\n",
              "       [-2.46421196e+00, -7.13207692e-01],\n",
              "       [-2.69888626e+00,  1.12102962e+00],\n",
              "       [-2.69403664e+00, -3.92359182e-01],\n",
              "       [-2.56159513e+00,  9.98994994e-01],\n",
              "       [-2.53047263e+00,  6.10739190e-03],\n",
              "       [ 6.00379375e-01,  9.00342992e-01],\n",
              "       [ 3.31141293e-01,  6.25785623e-01],\n",
              "       [ 7.31115681e-01,  6.53807784e-01],\n",
              "       [ 1.01706858e-01, -1.73830072e+00],\n",
              "       [ 6.25153481e-01, -1.77453985e-01],\n",
              "       [ 1.08780015e-01, -5.73419613e-01],\n",
              "       [ 3.96775701e-01,  8.02993454e-01],\n",
              "       [-5.51035692e-01, -1.85099613e+00],\n",
              "       [ 5.47118532e-01,  5.99985766e-02],\n",
              "       [-1.38548652e-01, -1.02287173e+00],\n",
              "       [-2.31149280e-01, -2.65234662e+00],\n",
              "       [ 2.09965425e-01, -4.34568423e-02],\n",
              "       [ 3.00867953e-01, -1.75158235e+00],\n",
              "       [ 4.43349725e-01, -1.64116371e-01],\n",
              "       [-1.29284152e-01, -4.28885975e-01],\n",
              "       [ 5.77266958e-01,  5.34698069e-01],\n",
              "       [ 1.94346002e-01, -1.80334785e-01],\n",
              "       [ 4.33905439e-02, -7.82545188e-01],\n",
              "       [ 8.81658090e-01, -1.60182127e+00],\n",
              "       [ 7.04306214e-02, -1.29594293e+00],\n",
              "       [ 5.37670448e-01,  4.18598679e-01],\n",
              "       [ 3.30795314e-01, -4.03765054e-01],\n",
              "       [ 9.30269933e-01, -9.11699231e-01],\n",
              "       [ 4.72797737e-01, -4.01467915e-01],\n",
              "       [ 5.34222962e-01, -4.68238507e-02],\n",
              "       [ 6.77242753e-01,  2.70556633e-01],\n",
              "       [ 9.81464702e-01, -5.41456533e-02],\n",
              "       [ 1.07775617e+00,  3.57512482e-01],\n",
              "       [ 5.53239585e-01, -2.11897270e-01],\n",
              "       [ 8.15602283e-03, -1.05898845e+00],\n",
              "       [ 1.54549705e-01, -1.56245703e+00],\n",
              "       [ 7.95408272e-02, -1.57478936e+00],\n",
              "       [ 2.60209125e-01, -7.73657224e-01],\n",
              "       [ 9.12879095e-01, -6.18214222e-01],\n",
              "       [ 2.79108129e-01, -2.82456917e-01],\n",
              "       [ 4.44628252e-01,  8.57661755e-01],\n",
              "       [ 9.24409567e-01,  5.40170762e-01],\n",
              "       [ 9.28011611e-01, -1.37351093e+00],\n",
              "       [ 1.92930057e-01, -2.18448480e-01],\n",
              "       [ 3.67182885e-01, -1.33051450e+00],\n",
              "       [ 3.73967906e-01, -1.12080437e+00],\n",
              "       [ 6.50388643e-01,  3.30522135e-02],\n",
              "       [ 4.33835696e-01, -9.89200329e-01],\n",
              "       [-9.50514570e-02, -2.03429120e+00],\n",
              "       [ 4.21641012e-01, -8.57251084e-01],\n",
              "       [ 2.77551255e-01, -1.83194586e-01],\n",
              "       [ 3.94298154e-01, -3.86315298e-01],\n",
              "       [ 6.69072653e-01, -1.51363683e-01],\n",
              "       [-1.10812280e-01, -1.56051375e+00],\n",
              "       [ 4.46053687e-01, -6.02251873e-01],\n",
              "       [ 2.26033151e+00,  8.87188069e-01],\n",
              "       [ 1.72914856e+00, -6.99182549e-01],\n",
              "       [ 2.54282772e+00,  5.80376395e-01],\n",
              "       [ 1.96313086e+00, -4.19239704e-02],\n",
              "       [ 2.30948137e+00,  3.07224610e-01],\n",
              "       [ 2.99288259e+00,  8.25695681e-01],\n",
              "       [ 1.17085191e+00, -1.57843083e+00],\n",
              "       [ 2.66208600e+00,  4.36457806e-01],\n",
              "       [ 2.44638195e+00, -7.04113915e-01],\n",
              "       [ 2.66362067e+00,  1.94289868e+00],\n",
              "       [ 1.97500812e+00,  6.96373840e-01],\n",
              "       [ 2.16773145e+00, -4.19984462e-01],\n",
              "       [ 2.39617630e+00,  4.27856876e-01],\n",
              "       [ 1.93001454e+00, -1.16881736e+00],\n",
              "       [ 2.10755984e+00, -4.43073453e-01],\n",
              "       [ 2.20652408e+00,  6.80904155e-01],\n",
              "       [ 2.11546019e+00,  2.55916126e-01],\n",
              "       [ 2.86527794e+00,  2.57922583e+00],\n",
              "       [ 3.55712269e+00,  4.13182381e-02],\n",
              "       [ 1.98042009e+00, -1.71917976e+00],\n",
              "       [ 2.59899130e+00,  9.19588986e-01],\n",
              "       [ 1.79377221e+00, -5.83493524e-01],\n",
              "       [ 3.27283335e+00,  4.30920516e-01],\n",
              "       [ 2.07751599e+00, -4.90012305e-01],\n",
              "       [ 2.37762669e+00,  1.01691393e+00],\n",
              "       [ 2.57427035e+00,  1.01316799e+00],\n",
              "       [ 1.98634053e+00, -3.27464427e-01],\n",
              "       [ 1.87930128e+00,  5.24256116e-02],\n",
              "       [ 2.48637895e+00, -1.90021122e-01],\n",
              "       [ 2.53944206e+00,  5.62342610e-01],\n",
              "       [ 2.99524629e+00,  2.65630170e-01],\n",
              "       [ 2.90514922e+00,  2.64028799e+00],\n",
              "       [ 2.58560117e+00, -1.81995625e-01],\n",
              "       [ 2.00440584e+00, -3.08351597e-01],\n",
              "       [ 2.08424364e+00, -8.27961240e-01],\n",
              "       [ 3.33011774e+00,  8.68372376e-01],\n",
              "       [ 2.41073570e+00,  1.06486130e+00],\n",
              "       [ 2.23047419e+00,  4.11649410e-01],\n",
              "       [ 1.91584314e+00, -1.49165947e-03],\n",
              "       [ 2.64097426e+00,  6.72218207e-01],\n",
              "       [ 2.78464361e+00,  6.11973477e-01],\n",
              "       [ 2.70169095e+00,  6.85503066e-01],\n",
              "       [ 2.13986658e+00, -7.19007688e-01],\n",
              "       [ 2.83336599e+00,  8.65536611e-01],\n",
              "       [ 2.81458562e+00,  1.04708176e+00],\n",
              "       [ 2.71965933e+00,  3.79442789e-01],\n",
              "       [ 2.48809961e+00, -9.14478602e-01],\n",
              "       [ 2.46668475e+00,  2.55178326e-01],\n",
              "       [ 2.37226868e+00,  9.98611708e-01],\n",
              "       [ 2.05588190e+00, -4.78524301e-02]])"
            ]
          },
          "metadata": {},
          "execution_count": 35
        }
      ]
    },
    {
      "cell_type": "code",
      "source": [
        "import matplotlib.pyplot as plt\n",
        "plt.figure(figsize=(10,8))\n",
        "plt.scatter(x_pca[:,0],x_pca[:,1],c=y,)\n",
        "plt.title(\"PCA Graph\")\n",
        "plt.xlabel(\"First Principal Component\")\n",
        "plt.ylabel(\"Second Principal Component\")\n",
        "plt.show()"
      ],
      "metadata": {
        "colab": {
          "base_uri": "https://localhost:8080/",
          "height": 513
        },
        "id": "KzD_PKJa7CtL",
        "outputId": "98a6ddf9-8561-44ef-aaaf-455d5537e2ac"
      },
      "execution_count": null,
      "outputs": [
        {
          "output_type": "display_data",
          "data": {
            "text/plain": [
              "<Figure size 720x576 with 1 Axes>"
            ],
            "image/png": "[encoded data removed]"
          },
          "metadata": {
            "needs_background": "light"
          }
        }
      ]
    },
    {
      "cell_type": "markdown",
      "source": [
        "#**Scatter Plot - with Species Data and PCA Components**"
      ],
      "metadata": {
        "id": "QiSbCEwiK_Ic"
      }
    },
    {
      "cell_type": "code",
      "source": [
        "import numpy as np\n",
        "from sklearn import datasets\n",
        "from sklearn.decomposition import PCA\n",
        "\n",
        "iris = datasets.load_iris()\n",
        "X= iris.data\n",
        "y = iris.target\n",
        "X.shape\n",
        "y.shape\n",
        "pca = PCA(n_components=2)\n",
        "pca.fit(X)\n",
        "pca.components_\n",
        "Z = pca.transform(X)\n",
        "Z.shape\n",
        "plt.figure(figsize=(10,8))\n",
        "plt.scatter(Z[:,0],Z[:,1],c=y)\n",
        "plt.title(\"PCA Graph\")\n",
        "plt.xlabel(\"First Principal Component\")\n",
        "plt.ylabel(\"Second Principal Component\")\n",
        "plt.show()"
      ],
      "metadata": {
        "colab": {
          "base_uri": "https://localhost:8080/",
          "height": 513
        },
        "id": "w4fTt5njLEz1",
        "outputId": "5a09712c-4d65-4234-cfba-19f55146b113"
      },
      "execution_count": null,
      "outputs": [
        {
          "output_type": "display_data",
          "data": {
            "text/plain": [
              "<Figure size 720x576 with 1 Axes>"
            ],
            "image/png": "[encoded data removed]"
          },
          "metadata": {
            "needs_background": "light"
          }
        }
      ]
    },
    {
      "cell_type": "markdown",
      "source": [
        "#**Histrogram**"
      ],
      "metadata": {
        "id": "YFXKbt1SXuLR"
      }
    },
    {
      "cell_type": "code",
      "source": [
        "df.describe()"
      ],
      "metadata": {
        "colab": {
          "base_uri": "https://localhost:8080/",
          "height": 300
        },
        "id": "S17GDhEhXwcx",
        "outputId": "11cbba7e-771d-46e9-945f-6a0aa880007f"
      },
      "execution_count": null,
      "outputs": [
        {
          "output_type": "execute_result",
          "data": {
            "text/plain": [
              "               Id  SepalLengthCm  SepalWidthCm  PetalLengthCm  PetalWidthCm  \\\n",
              "count  150.000000     150.000000    150.000000     150.000000    150.000000   \n",
              "mean    75.500000       5.843333      3.054000       3.758667      1.198667   \n",
              "std     43.445368       0.828066      0.433594       1.764420      0.763161   \n",
              "min      1.000000       4.300000      2.000000       1.000000      0.100000   \n",
              "25%     38.250000       5.100000      2.800000       1.600000      0.300000   \n",
              "50%     75.500000       5.800000      3.000000       4.350000      1.300000   \n",
              "75%    112.750000       6.400000      3.300000       5.100000      1.800000   \n",
              "max    150.000000       7.900000      4.400000       6.900000      2.500000   \n",
              "\n",
              "          Species  \n",
              "count  150.000000  \n",
              "mean     1.000000  \n",
              "std      0.819232  \n",
              "min      0.000000  \n",
              "25%      0.000000  \n",
              "50%      1.000000  \n",
              "75%      2.000000  \n",
              "max      2.000000  "
            ],
            "text/html": [
              "\n",
              "  <div id=\"df-def695ea-e4b9-4d4f-8065-95dd8cc5a641\">\n",
              "    <div class=\"colab-df-container\">\n",
              "      <div>\n",
              "<style scoped>\n",
              "    .dataframe tbody tr th:only-of-type {\n",
              "        vertical-align: middle;\n",
              "    }\n",
              "\n",
              "    .dataframe tbody tr th {\n",
              "        vertical-align: top;\n",
              "    }\n",
              "\n",
              "    .dataframe thead th {\n",
              "        text-align: right;\n",
              "    }\n",
              "</style>\n",
              "<table border=\"1\" class=\"dataframe\">\n",
              "  <thead>\n",
              "    <tr style=\"text-align: right;\">\n",
              "      <th></th>\n",
              "      <th>Id</th>\n",
              "      <th>SepalLengthCm</th>\n",
              "      <th>SepalWidthCm</th>\n",
              "      <th>PetalLengthCm</th>\n",
              "      <th>PetalWidthCm</th>\n",
              "      <th>Species</th>\n",
              "    </tr>\n",
              "  </thead>\n",
              "  <tbody>\n",
              "    <tr>\n",
              "      <th>count</th>\n",
              "      <td>150.000000</td>\n",
              "      <td>150.000000</td>\n",
              "      <td>150.000000</td>\n",
              "      <td>150.000000</td>\n",
              "      <td>150.000000</td>\n",
              "      <td>150.000000</td>\n",
              "    </tr>\n",
              "    <tr>\n",
              "      <th>mean</th>\n",
              "      <td>75.500000</td>\n",
              "      <td>5.843333</td>\n",
              "      <td>3.054000</td>\n",
              "      <td>3.758667</td>\n",
              "      <td>1.198667</td>\n",
              "      <td>1.000000</td>\n",
              "    </tr>\n",
              "    <tr>\n",
              "      <th>std</th>\n",
              "      <td>43.445368</td>\n",
              "      <td>0.828066</td>\n",
              "      <td>0.433594</td>\n",
              "      <td>1.764420</td>\n",
              "      <td>0.763161</td>\n",
              "      <td>0.819232</td>\n",
              "    </tr>\n",
              "    <tr>\n",
              "      <th>min</th>\n",
              "      <td>1.000000</td>\n",
              "      <td>4.300000</td>\n",
              "      <td>2.000000</td>\n",
              "      <td>1.000000</td>\n",
              "      <td>0.100000</td>\n",
              "      <td>0.000000</td>\n",
              "    </tr>\n",
              "    <tr>\n",
              "      <th>25%</th>\n",
              "      <td>38.250000</td>\n",
              "      <td>5.100000</td>\n",
              "      <td>2.800000</td>\n",
              "      <td>1.600000</td>\n",
              "      <td>0.300000</td>\n",
              "      <td>0.000000</td>\n",
              "    </tr>\n",
              "    <tr>\n",
              "      <th>50%</th>\n",
              "      <td>75.500000</td>\n",
              "      <td>5.800000</td>\n",
              "      <td>3.000000</td>\n",
              "      <td>4.350000</td>\n",
              "      <td>1.300000</td>\n",
              "      <td>1.000000</td>\n",
              "    </tr>\n",
              "    <tr>\n",
              "      <th>75%</th>\n",
              "      <td>112.750000</td>\n",
              "      <td>6.400000</td>\n",
              "      <td>3.300000</td>\n",
              "      <td>5.100000</td>\n",
              "      <td>1.800000</td>\n",
              "      <td>2.000000</td>\n",
              "    </tr>\n",
              "    <tr>\n",
              "      <th>max</th>\n",
              "      <td>150.000000</td>\n",
              "      <td>7.900000</td>\n",
              "      <td>4.400000</td>\n",
              "      <td>6.900000</td>\n",
              "      <td>2.500000</td>\n",
              "      <td>2.000000</td>\n",
              "    </tr>\n",
              "  </tbody>\n",
              "</table>\n",
              "</div>\n",
              "      <button class=\"colab-df-convert\" onclick=\"convertToInteractive('df-def695ea-e4b9-4d4f-8065-95dd8cc5a641')\"\n",
              "              title=\"Convert this dataframe to an interactive table.\"\n",
              "              style=\"display:none;\">\n",
              "        \n",
              "  <svg xmlns=\"http://www.w3.org/2000/svg\" height=\"24px\"viewBox=\"0 0 24 24\"\n",
              "       width=\"24px\">\n",
              "    <path d=\"M0 0h24v24H0V0z\" fill=\"none\"/>\n",
              "    <path d=\"M18.56 5.44l.94 2.06.94-2.06 2.06-.94-2.06-.94-.94-2.06-.94 2.06-2.06.94zm-11 1L8.5 8.5l.94-2.06 2.06-.94-2.06-.94L8.5 2.5l-.94 2.06-2.06.94zm10 10l.94 2.06.94-2.06 2.06-.94-2.06-.94-.94-2.06-.94 2.06-2.06.94z\"/><path d=\"M17.41 7.96l-1.37-1.37c-.4-.4-.92-.59-1.43-.59-.52 0-1.04.2-1.43.59L10.3 9.45l-7.72 7.72c-.78.78-.78 2.05 0 2.83L4 21.41c.39.39.9.59 1.41.59.51 0 1.02-.2 1.41-.59l7.78-7.78 2.81-2.81c.8-.78.8-2.07 0-2.86zM5.41 20L4 18.59l7.72-7.72 1.47 1.35L5.41 20z\"/>\n",
              "  </svg>\n",
              "      </button>\n",
              "      \n",
              "  <style>\n",
              "    .colab-df-container {\n",
              "      display:flex;\n",
              "      flex-wrap:wrap;\n",
              "      gap: 12px;\n",
              "    }\n",
              "\n",
              "    .colab-df-convert {\n",
              "      background-color: #E8F0FE;\n",
              "      border: none;\n",
              "      border-radius: 50%;\n",
              "      cursor: pointer;\n",
              "      display: none;\n",
              "      fill: #1967D2;\n",
              "      height: 32px;\n",
              "      padding: 0 0 0 0;\n",
              "      width: 32px;\n",
              "    }\n",
              "\n",
              "    .colab-df-convert:hover {\n",
              "      background-color: #E2EBFA;\n",
              "      box-shadow: 0px 1px 2px rgba(60, 64, 67, 0.3), 0px 1px 3px 1px rgba(60, 64, 67, 0.15);\n",
              "      fill: #174EA6;\n",
              "    }\n",
              "\n",
              "    [theme=dark] .colab-df-convert {\n",
              "      background-color: #3B4455;\n",
              "      fill: #D2E3FC;\n",
              "    }\n",
              "\n",
              "    [theme=dark] .colab-df-convert:hover {\n",
              "      background-color: #434B5C;\n",
              "      box-shadow: 0px 1px 3px 1px rgba(0, 0, 0, 0.15);\n",
              "      filter: drop-shadow(0px 1px 2px rgba(0, 0, 0, 0.3));\n",
              "      fill: #FFFFFF;\n",
              "    }\n",
              "  </style>\n",
              "\n",
              "      <script>\n",
              "        const buttonEl =\n",
              "          document.querySelector('#df-def695ea-e4b9-4d4f-8065-95dd8cc5a641 button.colab-df-convert');\n",
              "        buttonEl.style.display =\n",
              "          google.colab.kernel.accessAllowed ? 'block' : 'none';\n",
              "\n",
              "        async function convertToInteractive(key) {\n",
              "          const element = document.querySelector('#df-def695ea-e4b9-4d4f-8065-95dd8cc5a641');\n",
              "          const dataTable =\n",
              "            await google.colab.kernel.invokeFunction('convertToInteractive',\n",
              "                                                     [key], {});\n",
              "          if (!dataTable) return;\n",
              "\n",
              "          const docLinkHtml = 'Like what you see? Visit the ' +\n",
              "            '<a target=\"_blank\" href=https://colab.research.google.com/notebooks/data_table.ipynb>data table notebook</a>'\n",
              "            + ' to learn more about interactive tables.';\n",
              "          element.innerHTML = '';\n",
              "          dataTable['output_type'] = 'display_data';\n",
              "          await google.colab.output.renderOutput(dataTable, element);\n",
              "          const docLink = document.createElement('div');\n",
              "          docLink.innerHTML = docLinkHtml;\n",
              "          element.appendChild(docLink);\n",
              "        }\n",
              "      </script>\n",
              "    </div>\n",
              "  </div>\n",
              "  "
            ]
          },
          "metadata": {},
          "execution_count": 87
        }
      ]
    },
    {
      "cell_type": "code",
      "source": [
        "df.info()"
      ],
      "metadata": {
        "colab": {
          "base_uri": "https://localhost:8080/"
        },
        "id": "sLTS69AGYrQ1",
        "outputId": "3ac29723-e37b-41d5-98ce-0019d09cf060"
      },
      "execution_count": null,
      "outputs": [
        {
          "output_type": "stream",
          "name": "stdout",
          "text": [
            "<class 'pandas.core.frame.DataFrame'>\n",
            "RangeIndex: 150 entries, 0 to 149\n",
            "Data columns (total 6 columns):\n",
            " #   Column         Non-Null Count  Dtype  \n",
            "---  ------         --------------  -----  \n",
            " 0   Id             150 non-null    int64  \n",
            " 1   SepalLengthCm  150 non-null    float64\n",
            " 2   SepalWidthCm   150 non-null    float64\n",
            " 3   PetalLengthCm  150 non-null    float64\n",
            " 4   PetalWidthCm   150 non-null    float64\n",
            " 5   Species        150 non-null    int64  \n",
            "dtypes: float64(4), int64(2)\n",
            "memory usage: 7.2 KB\n"
          ]
        }
      ]
    },
    {
      "cell_type": "markdown",
      "source": [
        "#Histrogram for Sepal Length"
      ],
      "metadata": {
        "id": "dC_9S1LyYQ8E"
      }
    },
    {
      "cell_type": "code",
      "source": [
        "plt.figure(figsize = (7, 5))\n",
        "x = df.SepalLengthCm\n",
        "plt.hist(x, color = \"g\")\n",
        "plt.title(\"Sepal Length Histogram\")\n",
        "plt.xlabel(\"Sepal Length cm\")\n",
        "plt.ylabel(\"Count\")\n",
        "plt.show()"
      ],
      "metadata": {
        "colab": {
          "base_uri": "https://localhost:8080/",
          "height": 350
        },
        "id": "ecWnyL7FYVnr",
        "outputId": "5605ba35-e392-4384-bd9f-3d491c4cf428"
      },
      "execution_count": null,
      "outputs": [
        {
          "output_type": "display_data",
          "data": {
            "text/plain": [
              "<Figure size 504x360 with 1 Axes>"
            ],
            "image/png": "[encoded data removed]"
          },
          "metadata": {
            "needs_background": "light"
          }
        }
      ]
    },
    {
      "cell_type": "markdown",
      "source": [
        "#**PCA - TRIAL ANALYSIS**\n"
      ],
      "metadata": {
        "id": "fRD8er8rAVE3"
      }
    },
    {
      "cell_type": "code",
      "source": [
        "dataFrame = pd.read_csv(\"/Iris.csv\")\n",
        "X = dataFrame.iloc[:, 1:5].values"
      ],
      "metadata": {
        "id": "L23szoAaCVo1"
      },
      "execution_count": null,
      "outputs": []
    },
    {
      "cell_type": "code",
      "source": [
        "from sklearn.preprocessing import StandardScaler\n",
        "from sklearn.decomposition import PCA\n",
        "\n",
        "X_std = StandardScaler().fit_transform(X)\n",
        "pca = PCA(n_components=2)\n",
        "principalComponents = pca.fit_transform(X_std)\n",
        "principalDf = pd.DataFrame(data = principalComponents\n",
        "             , columns = ['principal component 1', 'principal component 2'])\n",
        "finalDf = pd.concat([principalDf, dataFrame['Species']], axis = 1)\n",
        "\n",
        "fig = plt.figure(figsize = (10,8))\n",
        "ax = fig.add_subplot(1,1,1)\n",
        "ax.set_xlabel('First Principle Component')\n",
        "ax.set_ylabel('Second Principal Component')\n",
        "ax.set_title('PCA Graph')\n",
        "targets = ['Iris-setosa', 'Iris-versicolor', 'Iris-virginica']\n",
        "colors = ['r', 'g', 'b']\n",
        "for target, color in zip(targets,colors):\n",
        "    indicesToKeep = finalDf['Species'] == target\n",
        "    ax.scatter(finalDf.loc[indicesToKeep, 'principal component 1']\n",
        "               , finalDf.loc[indicesToKeep, 'principal component 2']\n",
        "               , c = color\n",
        "               , s = 50)\n",
        "ax.legend(targets)\n",
        "plt.show()"
      ],
      "metadata": {
        "colab": {
          "base_uri": "https://localhost:8080/",
          "height": 513
        },
        "id": "fD0TVv5sRGNy",
        "outputId": "84ecf9c4-aab9-461e-a4c9-941a49195e30"
      },
      "execution_count": null,
      "outputs": [
        {
          "output_type": "display_data",
          "data": {
            "text/plain": [
              "<Figure size 720x576 with 1 Axes>"
            ],
            "image/png": "[encoded data removed]"
          },
          "metadata": {
            "needs_background": "light"
          }
        }
      ]
    }
  ]
}